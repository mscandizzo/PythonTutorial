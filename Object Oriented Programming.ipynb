{
 "cells": [
  {
   "cell_type": "markdown",
   "metadata": {},
   "source": [
    "## Object Oriented Programming\n",
    "--------------------------------\n",
    "\n",
    "Creating your 1st class\n",
    "\n",
    "Classes are blue prints, they are not designed to be used perse, they are rather containers of attributes, methods and functions.\n",
    "\n",
    "The objective is to create a blueprint that would allow me to create objects with predefined features."
   ]
  },
  {
   "cell_type": "code",
   "execution_count": 19,
   "metadata": {},
   "outputs": [],
   "source": [
    "class Point():\n",
    "    x = 10\n",
    "    y = 7"
   ]
  },
  {
   "cell_type": "markdown",
   "metadata": {},
   "source": [
    "Once the blueprint is created we instantiate ,i.e., create a new object following the guidelines we provided for any object created after the class Point"
   ]
  },
  {
   "cell_type": "code",
   "execution_count": 2,
   "metadata": {},
   "outputs": [
    {
     "name": "stdout",
     "output_type": "stream",
     "text": [
      "10\n",
      "7\n"
     ]
    }
   ],
   "source": [
    "p = Point()\n",
    "print(p.x)  # 10 (from class attribute)\n",
    "print(p.y)  # 7 (from class attribute)"
   ]
  },
  {
   "cell_type": "markdown",
   "metadata": {},
   "source": [
    "The new object could have the same attributes but with different assigned values as well as entirely new attributes"
   ]
  },
  {
   "cell_type": "code",
   "execution_count": 3,
   "metadata": {},
   "outputs": [
    {
     "name": "stdout",
     "output_type": "stream",
     "text": [
      "12\n",
      "10\n"
     ]
    }
   ],
   "source": [
    "p.x = 12  # p gets its own `x` attribute\n",
    "print(p.x)  # 12 (now found on the instance)\n",
    "print(Point.x)  # 10 (class attribute still the same)"
   ]
  },
  {
   "cell_type": "code",
   "execution_count": 4,
   "metadata": {},
   "outputs": [
    {
     "name": "stdout",
     "output_type": "stream",
     "text": [
      "10\n"
     ]
    }
   ],
   "source": [
    "del p.x  # we delete instance attribute\n",
    "print(p.x)  # 10 (now search has to go again to find class attr)"
   ]
  },
  {
   "cell_type": "code",
   "execution_count": 5,
   "metadata": {},
   "outputs": [
    {
     "name": "stdout",
     "output_type": "stream",
     "text": [
      "3\n"
     ]
    }
   ],
   "source": [
    "p.z = 3  # let's make it a 3D point\n",
    "print(p.z)  # 3"
   ]
  },
  {
   "cell_type": "markdown",
   "metadata": {},
   "source": [
    "It is important to mention that objects created based on a class inherit all the attributes & features of the class while preserving the ability to create new attributes and features.\n",
    "Nevertheless, new objects cannot alter the class attributes and features."
   ]
  },
  {
   "cell_type": "code",
   "execution_count": 6,
   "metadata": {},
   "outputs": [
    {
     "ename": "AttributeError",
     "evalue": "type object 'Point' has no attribute 'z'",
     "output_type": "error",
     "traceback": [
      "\u001b[1;31m---------------------------------------------------------------------------\u001b[0m",
      "\u001b[1;31mAttributeError\u001b[0m                            Traceback (most recent call last)",
      "\u001b[1;32m<ipython-input-6-32c15cc6ddc2>\u001b[0m in \u001b[0;36m<module>\u001b[1;34m()\u001b[0m\n\u001b[1;32m----> 1\u001b[1;33m \u001b[0mprint\u001b[0m\u001b[1;33m(\u001b[0m\u001b[0mPoint\u001b[0m\u001b[1;33m.\u001b[0m\u001b[0mz\u001b[0m\u001b[1;33m)\u001b[0m\u001b[1;33m\u001b[0m\u001b[0m\n\u001b[0m\u001b[0;32m      2\u001b[0m \u001b[1;31m# AttributeError: type object 'Point' has no attribute 'z'\u001b[0m\u001b[1;33m\u001b[0m\u001b[1;33m\u001b[0m\u001b[0m\n",
      "\u001b[1;31mAttributeError\u001b[0m: type object 'Point' has no attribute 'z'"
     ]
    }
   ],
   "source": [
    "print(Point.z)\n",
    "# AttributeError: type object 'Point' has no attribute 'z'"
   ]
  },
  {
   "cell_type": "code",
   "execution_count": 7,
   "metadata": {},
   "outputs": [],
   "source": [
    "class Person():\n",
    "    species = 'Human'"
   ]
  },
  {
   "cell_type": "code",
   "execution_count": 8,
   "metadata": {},
   "outputs": [
    {
     "name": "stdout",
     "output_type": "stream",
     "text": [
      "Human\n"
     ]
    }
   ],
   "source": [
    "print(Person.species)  # Human"
   ]
  },
  {
   "cell_type": "markdown",
   "metadata": {},
   "source": [
    "**Initial blue print can still be modified, but it has do be done directly not through inherintance an instantiated object**"
   ]
  },
  {
   "cell_type": "code",
   "execution_count": 9,
   "metadata": {},
   "outputs": [],
   "source": [
    "Person.alive = True  # Added dynamically!"
   ]
  },
  {
   "cell_type": "code",
   "execution_count": 10,
   "metadata": {},
   "outputs": [
    {
     "name": "stdout",
     "output_type": "stream",
     "text": [
      "True\n"
     ]
    }
   ],
   "source": [
    "print(Person.alive)  # True"
   ]
  },
  {
   "cell_type": "code",
   "execution_count": 11,
   "metadata": {},
   "outputs": [
    {
     "name": "stdout",
     "output_type": "stream",
     "text": [
      "Human\n",
      "True\n"
     ]
    }
   ],
   "source": [
    "man = Person()\n",
    "print(man.species)  # Human (inherited)\n",
    "print(man.alive)  # True (inherited)"
   ]
  },
  {
   "cell_type": "code",
   "execution_count": 12,
   "metadata": {},
   "outputs": [
    {
     "name": "stdout",
     "output_type": "stream",
     "text": [
      "False\n"
     ]
    }
   ],
   "source": [
    "Person.alive = False\n",
    "print(man.alive)  # False (inherited)"
   ]
  },
  {
   "cell_type": "code",
   "execution_count": 13,
   "metadata": {},
   "outputs": [
    {
     "name": "stdout",
     "output_type": "stream",
     "text": [
      "Darth Vader\n"
     ]
    }
   ],
   "source": [
    "man.name = 'Darth'\n",
    "man.surname = 'Vader'\n",
    "print(man.name, man.surname)  # Darth Vader"
   ]
  },
  {
   "cell_type": "code",
   "execution_count": 14,
   "metadata": {},
   "outputs": [
    {
     "ename": "AttributeError",
     "evalue": "type object 'Person' has no attribute 'name'",
     "output_type": "error",
     "traceback": [
      "\u001b[1;31m---------------------------------------------------------------------------\u001b[0m",
      "\u001b[1;31mAttributeError\u001b[0m                            Traceback (most recent call last)",
      "\u001b[1;32m<ipython-input-14-a85cff42e2e2>\u001b[0m in \u001b[0;36m<module>\u001b[1;34m()\u001b[0m\n\u001b[1;32m----> 1\u001b[1;33m \u001b[0mprint\u001b[0m\u001b[1;33m(\u001b[0m\u001b[0mPerson\u001b[0m\u001b[1;33m.\u001b[0m\u001b[0mname\u001b[0m\u001b[1;33m)\u001b[0m\u001b[1;33m\u001b[0m\u001b[0m\n\u001b[0m\u001b[0;32m      2\u001b[0m \u001b[1;31m# This doesn't work. We try to access an instance attribute\u001b[0m\u001b[1;33m\u001b[0m\u001b[1;33m\u001b[0m\u001b[0m\n\u001b[0;32m      3\u001b[0m \u001b[1;31m# from a class. Doing the opposite works, but this will give\u001b[0m\u001b[1;33m\u001b[0m\u001b[1;33m\u001b[0m\u001b[0m\n\u001b[0;32m      4\u001b[0m \u001b[1;31m# the following error:\u001b[0m\u001b[1;33m\u001b[0m\u001b[1;33m\u001b[0m\u001b[0m\n\u001b[0;32m      5\u001b[0m \u001b[1;31m# AttributeError: type object 'Person' has no attribute 'name'\u001b[0m\u001b[1;33m\u001b[0m\u001b[1;33m\u001b[0m\u001b[0m\n",
      "\u001b[1;31mAttributeError\u001b[0m: type object 'Person' has no attribute 'name'"
     ]
    }
   ],
   "source": [
    "print(Person.name)\n",
    "# This doesn't work. We try to access an instance attribute\n",
    "# from a class. Doing the opposite works, but this will give\n",
    "# the following error:\n",
    "# AttributeError: type object 'Person' has no attribute 'name'"
   ]
  },
  {
   "cell_type": "code",
   "execution_count": 38,
   "metadata": {},
   "outputs": [],
   "source": [
    "class Square():\n",
    "    side = 8\n",
    "\n",
    "    def area(self):  # self is a reference to an instance\n",
    "        return self.side ** 2"
   ]
  },
  {
   "cell_type": "code",
   "execution_count": 39,
   "metadata": {},
   "outputs": [
    {
     "name": "stdout",
     "output_type": "stream",
     "text": [
      "64\n",
      "64\n"
     ]
    }
   ],
   "source": [
    "sq = Square()\n",
    "print(sq.area())  # 64 (side is found on the class)\n",
    "print(Square.area(sq))  # 64 (equivalent to sq.area())"
   ]
  },
  {
   "cell_type": "code",
   "execution_count": 41,
   "metadata": {},
   "outputs": [
    {
     "name": "stdout",
     "output_type": "stream",
     "text": [
      "100\n",
      "64\n"
     ]
    }
   ],
   "source": [
    "sq.side = 10\n",
    "print(sq.area())  # 100 (side is found on the instance)\n",
    "print(Square.area(Square))"
   ]
  },
  {
   "cell_type": "code",
   "execution_count": 42,
   "metadata": {},
   "outputs": [],
   "source": [
    "class A:\n",
    "    label = 'a'\n",
    "\n",
    "class B(A):\n",
    "    label = 'b'\n",
    "\n",
    "class C(A):\n",
    "    label = 'c'\n",
    "\n",
    "class D(B, C):\n",
    "    pass"
   ]
  },
  {
   "cell_type": "code",
   "execution_count": 48,
   "metadata": {},
   "outputs": [
    {
     "name": "stdout",
     "output_type": "stream",
     "text": [
      "b\n",
      "[<class '__main__.D'>, <class '__main__.B'>, <class '__main__.C'>, <class '__main__.A'>, <class 'object'>]\n",
      "\n",
      " Why b?, Becuase it is the left most one among base classes\n"
     ]
    }
   ],
   "source": [
    "d = D()\n",
    "print(d.label)  \n",
    "print(d.__class__.mro())  # notice another way to get the MRO\n",
    "print('\\n Why b?, Becuase it is the left most one among base classes')"
   ]
  },
  {
   "cell_type": "code",
   "execution_count": 50,
   "metadata": {},
   "outputs": [],
   "source": [
    "class A:\n",
    "    label = 'a'\n",
    "\n",
    "class B(A):\n",
    "    pass  # was: label = 'b'\n",
    "\n",
    "class C(A):\n",
    "    label = 'c'\n",
    "\n",
    "class D(B, C):\n",
    "    pass"
   ]
  },
  {
   "cell_type": "code",
   "execution_count": 52,
   "metadata": {},
   "outputs": [
    {
     "name": "stdout",
     "output_type": "stream",
     "text": [
      "c\n",
      "[<class '__main__.D'>, <class '__main__.B'>, <class '__main__.C'>, <class '__main__.A'>, <class 'object'>]\n",
      "\n",
      " Why c? it is the only one with label attribute at base class level\n"
     ]
    }
   ],
   "source": [
    "d = D()\n",
    "print(d.label)  # 'c'\n",
    "print(d.__class__.mro())  # notice another way to get the MRO\n",
    "print('\\n Why c? it is the only one with label attribute at base class level')"
   ]
  },
  {
   "cell_type": "code",
   "execution_count": 53,
   "metadata": {},
   "outputs": [],
   "source": [
    "class A:\n",
    "    label = 'a'\n",
    "\n",
    "class B(A):\n",
    "    pass  # was: label = 'b'\n",
    "\n",
    "class C(A):\n",
    "    pass  # was: label = 'c'\n",
    "\n",
    "class D(B, C):\n",
    "    pass"
   ]
  },
  {
   "cell_type": "code",
   "execution_count": 56,
   "metadata": {},
   "outputs": [
    {
     "name": "stdout",
     "output_type": "stream",
     "text": [
      "a\n",
      "[<class '__main__.D'>, <class '__main__.B'>, <class '__main__.C'>, <class '__main__.A'>, <class 'object'>]\n",
      "\n",
      " Why a? inheritance continues up the chain !\n"
     ]
    }
   ],
   "source": [
    "d = D()\n",
    "print(d.label)  # 'c'\n",
    "print(d.__class__.mro())  # notice another way to get the MRO\n",
    "print('\\n Why a? inheritance continues up the chain !')"
   ]
  },
  {
   "cell_type": "markdown",
   "metadata": {},
   "source": [
    "## Initiating class attributes\n",
    "---------------------------------"
   ]
  },
  {
   "cell_type": "code",
   "execution_count": 57,
   "metadata": {},
   "outputs": [],
   "source": [
    "class Rectangle():\n",
    "    def __init__(self, side_a, side_b):\n",
    "        self.side_a = side_a\n",
    "        self.side_b = side_b\n",
    "\n",
    "    def area(self):\n",
    "        return self.side_a * self.side_b"
   ]
  },
  {
   "cell_type": "code",
   "execution_count": 58,
   "metadata": {},
   "outputs": [
    {
     "name": "stdout",
     "output_type": "stream",
     "text": [
      "10 4\n",
      "40\n"
     ]
    }
   ],
   "source": [
    "r1 = Rectangle(10, 4)\n",
    "print(r1.side_a, r1.side_b)  # 10 4\n",
    "print(r1.area())  # 40"
   ]
  },
  {
   "cell_type": "code",
   "execution_count": 24,
   "metadata": {},
   "outputs": [
    {
     "name": "stdout",
     "output_type": "stream",
     "text": [
      "21\n"
     ]
    }
   ],
   "source": [
    "r2 = Rectangle(7, 3)\n",
    "print(r2.area())  # 21"
   ]
  },
  {
   "cell_type": "code",
   "execution_count": 59,
   "metadata": {},
   "outputs": [
    {
     "name": "stdout",
     "output_type": "stream",
     "text": [
      "MUST NOT DO !! NEVER DUPLICATE ATTRIBUTES!!\n"
     ]
    }
   ],
   "source": [
    "class Book:\n",
    "    def __init__(self, title, publisher, pages):\n",
    "        self.title = title\n",
    "        self.publisher = publisher\n",
    "        self.pages = pages\n",
    "\n",
    "class Ebook(Book):\n",
    "    def __init__(self, title, publisher, pages, format_):\n",
    "        self.title = title         # <-- VERY VERY BAD PRACTICE\n",
    "        self.publisher = publisher # <-- VERY VERY BAD PRACTICE\n",
    "        self.pages = pages         # <-- VERY VERY BAD PRACTICE\n",
    "        self.format_ = format_\n",
    "print('MUST NOT DO !! NEVER DUPLICATE ATTRIBUTES!!')"
   ]
  },
  {
   "cell_type": "code",
   "execution_count": 60,
   "metadata": {},
   "outputs": [
    {
     "name": "stdout",
     "output_type": "stream",
     "text": [
      "Classes are blue prints, once created they will multiply and mutate\n",
      "110.0\n",
      "110.0\n"
     ]
    }
   ],
   "source": [
    "class Price():\n",
    "    def final_price(self, vat, discount=0):\n",
    "        \"\"\"Returns price after applying vat and fixed discount.\"\"\"\n",
    "        return (self.net_price * (100 + vat) / 100) - discount # VERY USEFUL TIP HERE CHECK NOTE\n",
    "\n",
    "print('Classes are blue prints, once created they will multiply and mutate')\n",
    "p1 = Price()\n",
    "p1.net_price = 100\n",
    "print(Price.final_price(p1, 20, 10))  # 110 (100 * 1.2 - 10)\n",
    "print(p1.final_price(20, 10))  # equivalent"
   ]
  },
  {
   "cell_type": "markdown",
   "metadata": {},
   "source": [
    "**Note:** \n",
    "by using **self.net_price** rather than just a local varialble **net_price** in the formula we achieve something formidable.\n",
    "\n",
    "When can assign a value to the net price attribute in any moment in time (p1.net_price=100)\n",
    "This allows us to later on run final_price() and get the price outcome!!!"
   ]
  },
  {
   "cell_type": "code",
   "execution_count": 28,
   "metadata": {},
   "outputs": [],
   "source": [
    "class Weird:\n",
    "    def __init__(self, s):\n",
    "        self._s = s\n",
    "\n",
    "    def __len__(self):\n",
    "        return len(self._s)\n",
    "\n",
    "    def __bool__(self):\n",
    "        return '42' in self._s"
   ]
  },
  {
   "cell_type": "code",
   "execution_count": 29,
   "metadata": {},
   "outputs": [
    {
     "name": "stdout",
     "output_type": "stream",
     "text": [
      "24\n",
      "False\n"
     ]
    }
   ],
   "source": [
    "weird = Weird('Hello! I am 9 years old!')\n",
    "print(len(weird))  # 24\n",
    "print(bool(weird))  # False"
   ]
  },
  {
   "cell_type": "code",
   "execution_count": 30,
   "metadata": {},
   "outputs": [
    {
     "name": "stdout",
     "output_type": "stream",
     "text": [
      "25\n",
      "True\n"
     ]
    }
   ],
   "source": [
    "weird2 = Weird('Hello! I am 42 years old!')\n",
    "print(len(weird2))  # 25\n",
    "print(bool(weird2))  # True"
   ]
  },
  {
   "cell_type": "markdown",
   "metadata": {},
   "source": [
    "## Best practices to create classes"
   ]
  },
  {
   "cell_type": "code",
   "execution_count": 61,
   "metadata": {},
   "outputs": [],
   "source": [
    "class Person:\n",
    "    def __init__(self, age):\n",
    "        self.age = age  # anyone can modify this freely"
   ]
  },
  {
   "cell_type": "markdown",
   "metadata": {},
   "source": [
    "Assuming you have an initial class already in place called Person, How could you build on top of that class without modifying the initial class?"
   ]
  },
  {
   "cell_type": "code",
   "execution_count": 68,
   "metadata": {},
   "outputs": [],
   "source": [
    "# Simple but not best practice option.\n",
    "\n",
    "class PersonWithAccessors:\n",
    "    def __init__(self, age):\n",
    "        self._age = age # the _ indicates that it is a private attribute\n",
    "\n",
    "    def get_age(self):\n",
    "        return self._age\n",
    "\n",
    "    def set_age(self):\n",
    "        if 18 <= age <= 99:\n",
    "            self._age = age\n",
    "        else:\n",
    "            raise ValueError('Age must be within [18, 99]')"
   ]
  },
  {
   "cell_type": "code",
   "execution_count": 69,
   "metadata": {},
   "outputs": [],
   "source": [
    "# best practice option\n",
    "\n",
    "class PersonPythonic:\n",
    "    def __init__(self, age):\n",
    "        self._age = age\n",
    "\n",
    "    @property\n",
    "    def age(self):\n",
    "        return self._age\n",
    "\n",
    "    @age.setter\n",
    "    def age(self, age):\n",
    "        if 18 <= age <= 99:\n",
    "            self._age = age\n",
    "        else:\n",
    "            raise ValueError('Age must be within [18, 99]')"
   ]
  },
  {
   "cell_type": "code",
   "execution_count": 67,
   "metadata": {},
   "outputs": [
    {
     "name": "stdout",
     "output_type": "stream",
     "text": [
      "39\n",
      "42\n"
     ]
    },
    {
     "ename": "ValueError",
     "evalue": "Age must be within [18, 99]",
     "output_type": "error",
     "traceback": [
      "\u001b[1;31m---------------------------------------------------------------------------\u001b[0m",
      "\u001b[1;31mValueError\u001b[0m                                Traceback (most recent call last)",
      "\u001b[1;32m<ipython-input-67-d92899e8092f>\u001b[0m in \u001b[0;36m<module>\u001b[1;34m()\u001b[0m\n\u001b[0;32m      3\u001b[0m \u001b[0mperson\u001b[0m\u001b[1;33m.\u001b[0m\u001b[0mage\u001b[0m \u001b[1;33m=\u001b[0m \u001b[1;36m42\u001b[0m  \u001b[1;31m# Notice we access as data attribute\u001b[0m\u001b[1;33m\u001b[0m\u001b[0m\n\u001b[0;32m      4\u001b[0m \u001b[0mprint\u001b[0m\u001b[1;33m(\u001b[0m\u001b[0mperson\u001b[0m\u001b[1;33m.\u001b[0m\u001b[0mage\u001b[0m\u001b[1;33m)\u001b[0m  \u001b[1;31m# 42\u001b[0m\u001b[1;33m\u001b[0m\u001b[0m\n\u001b[1;32m----> 5\u001b[1;33m \u001b[0mperson\u001b[0m\u001b[1;33m.\u001b[0m\u001b[0mage\u001b[0m \u001b[1;33m=\u001b[0m \u001b[1;36m100\u001b[0m  \u001b[1;31m# ValueError: Age must be within [18, 99]\u001b[0m\u001b[1;33m\u001b[0m\u001b[0m\n\u001b[0m",
      "\u001b[1;32m<ipython-input-66-fde33240863b>\u001b[0m in \u001b[0;36mage\u001b[1;34m(self, age)\u001b[0m\n\u001b[0;32m     12\u001b[0m             \u001b[0mself\u001b[0m\u001b[1;33m.\u001b[0m\u001b[0m_age\u001b[0m \u001b[1;33m=\u001b[0m \u001b[0mage\u001b[0m\u001b[1;33m\u001b[0m\u001b[0m\n\u001b[0;32m     13\u001b[0m         \u001b[1;32melse\u001b[0m\u001b[1;33m:\u001b[0m\u001b[1;33m\u001b[0m\u001b[0m\n\u001b[1;32m---> 14\u001b[1;33m             \u001b[1;32mraise\u001b[0m \u001b[0mValueError\u001b[0m\u001b[1;33m(\u001b[0m\u001b[1;34m'Age must be within [18, 99]'\u001b[0m\u001b[1;33m)\u001b[0m\u001b[1;33m\u001b[0m\u001b[0m\n\u001b[0m",
      "\u001b[1;31mValueError\u001b[0m: Age must be within [18, 99]"
     ]
    }
   ],
   "source": [
    "person = PersonPythonic(39)\n",
    "print(person.age)  # 39 - Notice we access as data attribute\n",
    "person.age = 42  # Notice we access as data attribute\n",
    "print(person.age)  # 42\n",
    "person.age = 100  # ValueError: Age must be within [18, 99]"
   ]
  },
  {
   "cell_type": "markdown",
   "metadata": {},
   "source": [
    "### Important conventions:\n",
    "-------------------------------\n",
    "\n",
    "**self** : to refer to attributes\n",
    "\n",
    "**cls** : to refer to classes"
   ]
  },
  {
   "cell_type": "code",
   "execution_count": 73,
   "metadata": {},
   "outputs": [],
   "source": [
    "class Point:\n",
    "\n",
    "    def __init__(self, x, y):\n",
    "        self.x = x\n",
    "        self.y = y\n",
    "\n",
    "    @classmethod\n",
    "    def from_tuple(cls, coords):  # cls is Point\n",
    "        return cls(*coords)\n",
    "\n",
    "    @classmethod\n",
    "    def from_point(cls, point):  # cls is Point\n",
    "        return cls(point.x, point.y)"
   ]
  },
  {
   "cell_type": "code",
   "execution_count": 74,
   "metadata": {},
   "outputs": [
    {
     "name": "stdout",
     "output_type": "stream",
     "text": [
      "3 7\n",
      "3 7\n"
     ]
    }
   ],
   "source": [
    "p = Point.from_tuple((3, 7))\n",
    "print(p.x, p.y)  # 3 7\n",
    "q = Point.from_point(p)\n",
    "print(q.x, q.y)  # 3 7"
   ]
  },
  {
   "cell_type": "code",
   "execution_count": 75,
   "metadata": {},
   "outputs": [],
   "source": [
    "class String:\n",
    "\n",
    "    @staticmethod\n",
    "    def is_palindrome(s, case_insensitive=True):\n",
    "        # we allow only letters and numbers\n",
    "        s = ''.join(c for c in s if c.isalnum())  # Study this!\n",
    "        # For case insensitive comparison, we lower-case s\n",
    "        if case_insensitive:\n",
    "            s = s.lower()\n",
    "        for c in range(len(s) // 2):\n",
    "            if s[c] != s[-c -1]:\n",
    "                return False\n",
    "        return True\n",
    "\n",
    "    @staticmethod\n",
    "    def get_unique_words(sentence):\n",
    "        return set(sentence.split())"
   ]
  },
  {
   "cell_type": "code",
   "execution_count": 76,
   "metadata": {},
   "outputs": [
    {
     "name": "stdout",
     "output_type": "stream",
     "text": [
      "False\n",
      "True\n",
      "True\n",
      "True\n",
      "{'them!', 'love', 'palindromes.', 'really', 'I'}\n"
     ]
    }
   ],
   "source": [
    "print(String.is_palindrome('Radar', case_insensitive=False))  # False: Case Sensitive\n",
    "print(String.is_palindrome('A nut for a jar of tuna'))  # True\n",
    "print(String.is_palindrome('Never Odd, Or Even!'))  # True\n",
    "print(String.is_palindrome('In Girum Imus Nocte Et Consumimur Igni'))  # True\n",
    "print(String.get_unique_words('I love palindromes. I really really love them!'))"
   ]
  },
  {
   "cell_type": "code",
   "execution_count": 77,
   "metadata": {},
   "outputs": [],
   "source": [
    "class String:\n",
    "\n",
    "    @classmethod\n",
    "    def is_palindrome(cls, s, case_insensitive=True):\n",
    "        s = cls._strip_string(s)\n",
    "        # For case insensitive comparison, we lower-case s\n",
    "        if case_insensitive:\n",
    "            s = s.lower()\n",
    "        return cls._is_palindrome(s)\n",
    "\n",
    "    @staticmethod\n",
    "    def _strip_string(s):\n",
    "        return ''.join(c for c in s if c.isalnum())\n",
    "\n",
    "    @staticmethod\n",
    "    def _is_palindrome(s):\n",
    "        for c in range(len(s) // 2):\n",
    "            if s[c] != s[-c -1]:\n",
    "                return False\n",
    "        return True\n",
    "\n",
    "    @staticmethod\n",
    "    def get_unique_words(sentence):\n",
    "        return set(sentence.split())"
   ]
  },
  {
   "cell_type": "code",
   "execution_count": 78,
   "metadata": {},
   "outputs": [
    {
     "name": "stdout",
     "output_type": "stream",
     "text": [
      "True\n",
      "False\n"
     ]
    }
   ],
   "source": [
    "print(String.is_palindrome('A nut for a jar of tuna'))  # True\n",
    "print(String.is_palindrome('A nut for a jar of beans'))  # False"
   ]
  },
  {
   "cell_type": "code",
   "execution_count": 79,
   "metadata": {},
   "outputs": [],
   "source": [
    "class A:\n",
    "    def __init__(self, factor):\n",
    "        self._factor = factor\n",
    "\n",
    "    def op1(self):\n",
    "        print('Op1 with factor {}...'.format(self._factor))\n",
    "\n",
    "class B(A):\n",
    "    def op2(self, factor):\n",
    "        self._factor = factor\n",
    "        print('Op2 with factor {}...'.format(self._factor))"
   ]
  },
  {
   "cell_type": "code",
   "execution_count": 80,
   "metadata": {},
   "outputs": [
    {
     "name": "stdout",
     "output_type": "stream",
     "text": [
      "Op1 with factor 100...\n",
      "Op2 with factor 42...\n",
      "Op1 with factor 42...\n",
      "dict_keys(['_factor'])\n"
     ]
    }
   ],
   "source": [
    "obj = B(100)\n",
    "obj.op1()    # Op1 with factor 100...\n",
    "obj.op2(42)  # Op2 with factor 42...\n",
    "obj.op1()    # Op1 with factor 42...  <- This is BAD\n",
    "\n",
    "print(obj.__dict__.keys())\n",
    "# dict_keys(['_factor'])"
   ]
  },
  {
   "cell_type": "code",
   "execution_count": 81,
   "metadata": {},
   "outputs": [],
   "source": [
    "class A:\n",
    "    def __init__(self, factor):\n",
    "        self.__factor = factor\n",
    "\n",
    "    def op1(self):\n",
    "        print('Op1 with factor {}...'.format(self.__factor))\n",
    "\n",
    "\n",
    "class B(A):\n",
    "    def op2(self, factor):\n",
    "        self.__factor = factor\n",
    "        print('Op2 with factor {}...'.format(self.__factor))"
   ]
  },
  {
   "cell_type": "code",
   "execution_count": 82,
   "metadata": {},
   "outputs": [
    {
     "name": "stdout",
     "output_type": "stream",
     "text": [
      "Op1 with factor 100...\n",
      "Op2 with factor 42...\n",
      "Op1 with factor 100...\n",
      "dict_keys(['_A__factor', '_B__factor'])\n"
     ]
    }
   ],
   "source": [
    "obj = B(100)\n",
    "obj.op1()    # Op1 with factor 100...\n",
    "obj.op2(42)  # Op2 with factor 42...\n",
    "obj.op1()    # Op1 with factor 100...  <- Wohoo! Now it's GOOD!\n",
    "\n",
    "print(obj.__dict__.keys())\n",
    "# dict_keys(['_A__factor', '_B__factor'])"
   ]
  },
  {
   "cell_type": "markdown",
   "metadata": {},
   "source": [
    "## Inheritance methods\n",
    "-------------------------"
   ]
  },
  {
   "cell_type": "code",
   "execution_count": 83,
   "metadata": {},
   "outputs": [
    {
     "name": "stdout",
     "output_type": "stream",
     "text": [
      "Learning Python\n",
      "Packt Publishing\n",
      "360\n",
      "PDF\n"
     ]
    }
   ],
   "source": [
    "# Explicit\n",
    "class Book:\n",
    "\n",
    "    def __init__(self, title, publisher, pages):\n",
    "        self.title = title\n",
    "        self.publisher = publisher\n",
    "        self.pages = pages\n",
    "\n",
    "\n",
    "class Ebook(Book):\n",
    "\n",
    "    def __init__(self, title, publisher, pages, format_):\n",
    "        Book.__init__(self, title, publisher, pages)\n",
    "        self.format_ = format_\n",
    "\n",
    "\n",
    "ebook = Ebook('Learning Python', 'Packt Publishing', 360, 'PDF')\n",
    "print(ebook.title)  # Learning Python\n",
    "print(ebook.publisher)  # Packt Publishing\n",
    "print(ebook.pages)  # 360\n",
    "print(ebook.format_)  # PDF"
   ]
  },
  {
   "cell_type": "code",
   "execution_count": 84,
   "metadata": {},
   "outputs": [],
   "source": [
    "# Implicit \n",
    "class Book:\n",
    "\n",
    "    def __init__(self, title, publisher, pages):\n",
    "        self.title = title\n",
    "        self.publisher = publisher\n",
    "        self.pages = pages\n",
    "\n",
    "\n",
    "class Ebook(Book):\n",
    "\n",
    "    def __init__(self, title, publisher, pages, format_):\n",
    "        super().__init__(title, publisher, pages)\n",
    "        # Another way to do the same thing is:\n",
    "        # super(Ebook, self).__init__(title, publisher, pages)\n",
    "        self.format_ = format_"
   ]
  },
  {
   "cell_type": "code",
   "execution_count": 85,
   "metadata": {},
   "outputs": [
    {
     "name": "stdout",
     "output_type": "stream",
     "text": [
      "Learning Python\n",
      "Packt Publishing\n",
      "360\n",
      "PDF\n"
     ]
    }
   ],
   "source": [
    "ebook = Ebook('Learning Python', 'Packt Publishing', 360, 'PDF')\n",
    "print(ebook.title)  # Learning Python\n",
    "print(ebook.publisher)  # Packt Publishing\n",
    "print(ebook.pages)  # 360\n",
    "print(ebook.format_)  # PDF"
   ]
  },
  {
   "cell_type": "code",
   "execution_count": 87,
   "metadata": {},
   "outputs": [],
   "source": [
    "class Shape:\n",
    "    geometric_type = 'Generic Shape'\n",
    "\n",
    "    def area(self):  # This acts as placeholder for the interface\n",
    "        raise NotImplementedError\n",
    "\n",
    "    def get_geometric_type(self):\n",
    "        return self.geometric_type\n",
    "\n",
    "class Plotter:\n",
    "\n",
    "    def plot(self, ratio, topleft):\n",
    "        # Imagine some nice plotting logic here...\n",
    "        print('Plotting at {}, ratio {}.'.format(\n",
    "            topleft, ratio))\n",
    "\n",
    "class Polygon(Shape, Plotter):  # base class for polygons\n",
    "    geometric_type = 'Polygon'\n",
    "\n",
    "class RegularPolygon(Polygon):  # Is-A Polygon\n",
    "    geometric_type = 'Regular Polygon'\n",
    "\n",
    "    def __init__(self, side):\n",
    "        self.side = side\n",
    "\n",
    "class RegularHexagon(RegularPolygon): # Is-A RegularPolygon\n",
    "    geometric_type = 'RegularHexagon'\n",
    "\n",
    "    def area(self):\n",
    "        return 1.5 * (3 ** .5 * self.side ** 2)\n",
    "\n",
    "class Square(RegularPolygon):  # Is-A RegularPolygon\n",
    "    geometric_type = 'Square'\n",
    "\n",
    "    def area(self):\n",
    "        return self.side * self.side"
   ]
  },
  {
   "cell_type": "code",
   "execution_count": 88,
   "metadata": {},
   "outputs": [
    {
     "name": "stdout",
     "output_type": "stream",
     "text": [
      "259.8076211353316\n",
      "RegularHexagon\n",
      "Plotting at (75, 77), ratio 0.8.\n",
      "144\n",
      "Square\n",
      "Plotting at (74, 75), ratio 0.93.\n",
      "(<class '__main__.Square'>, <class '__main__.RegularPolygon'>, <class '__main__.Polygon'>, <class '__main__.Shape'>, <class '__main__.Plotter'>, <class 'object'>)\n"
     ]
    }
   ],
   "source": [
    "hexagon = RegularHexagon(10)\n",
    "print(hexagon.area())  # 259.8076211353316\n",
    "print(hexagon.get_geometric_type())  # RegularHexagon\n",
    "hexagon.plot(0.8, (75, 77))  # Plotting at (75, 77), ratio 0.8.\n",
    "\n",
    "square = Square(12)\n",
    "print(square.area())  # 144\n",
    "print(square.get_geometric_type())  # Square\n",
    "square.plot(0.93, (74, 75))  # Plotting at (74, 75), ratio 0.93.\n",
    "\n",
    "print(square.__class__.__mro__)\n",
    "# prints:\n",
    "# (<class '__main__.Square'>, <class '__main__.RegularPolygon'>,\n",
    "#  <class '__main__.Polygon'>, <class '__main__.Shape'>,\n",
    "#  <class '__main__.Plotter'>, <class 'object'>)"
   ]
  },
  {
   "cell_type": "code",
   "execution_count": 89,
   "metadata": {},
   "outputs": [],
   "source": [
    "class Engine():\n",
    "    def start(self):\n",
    "        pass\n",
    "\n",
    "    def stop(self):\n",
    "        pass\n",
    "\n",
    "class ElectricEngine(Engine):  # Is-A Engine\n",
    "    pass\n",
    "\n",
    "class V8Engine(Engine):  # Is-A Engine\n",
    "    pass\n",
    "\n",
    "class Car():\n",
    "    engine_cls = Engine\n",
    "\n",
    "    def __init__(self):\n",
    "        self.engine = self.engine_cls()  # Has-A Engine\n",
    "\n",
    "    def start(self):\n",
    "        print(\n",
    "            'Starting engine {0} for car {1}... Wroom, wroom!'\n",
    "            .format(\n",
    "                self.engine.__class__.__name__,\n",
    "                self.__class__.__name__)\n",
    "        )\n",
    "        self.engine.start()\n",
    "\n",
    "    def stop(self):\n",
    "        self.engine.stop()\n",
    "\n",
    "class RaceCar(Car):  # Is-A Car\n",
    "    engine_cls = V8Engine\n",
    "\n",
    "class CityCar(Car):  # Is-A Car\n",
    "    engine_cls = ElectricEngine\n",
    "\n",
    "class F1Car(RaceCar):  # Is-A RaceCar and also Is-A Car\n",
    "    engine_cls = V8Engine"
   ]
  },
  {
   "cell_type": "code",
   "execution_count": 91,
   "metadata": {},
   "outputs": [
    {
     "name": "stdout",
     "output_type": "stream",
     "text": [
      "car is a Car\n",
      "car is not a RaceCar\n",
      "car is not a F1Car\n",
      "racecar is a Car\n",
      "racecar is a RaceCar\n",
      "racecar is not a F1Car\n",
      "f1car is a Car\n",
      "f1car is a RaceCar\n",
      "f1car is a F1Car\n"
     ]
    }
   ],
   "source": [
    "car = Car()\n",
    "racecar = RaceCar()\n",
    "f1car = F1Car()\n",
    "cars = [(car, 'car'), (racecar, 'racecar'), (f1car, 'f1car')]\n",
    "car_classes = [Car, RaceCar, F1Car]\n",
    "\n",
    "for car, car_name in cars:\n",
    "    for class_ in car_classes:\n",
    "        belongs = isinstance(car, class_)\n",
    "        msg = 'is a' if belongs else 'is not a'\n",
    "        print(car_name, msg, class_.__name__)"
   ]
  },
  {
   "cell_type": "code",
   "execution_count": 92,
   "metadata": {},
   "outputs": [
    {
     "name": "stdout",
     "output_type": "stream",
     "text": [
      "Car is a subclass of Car\n",
      "Car is not a subclass of RaceCar\n",
      "Car is not a subclass of F1Car\n",
      "RaceCar is a subclass of Car\n",
      "RaceCar is a subclass of RaceCar\n",
      "RaceCar is not a subclass of F1Car\n",
      "F1Car is a subclass of Car\n",
      "F1Car is a subclass of RaceCar\n",
      "F1Car is a subclass of F1Car\n"
     ]
    }
   ],
   "source": [
    "for class1 in car_classes:\n",
    "    for class2 in car_classes:\n",
    "        is_subclass = issubclass(class1, class2)\n",
    "        msg = '{0} a subclass of'.format(\n",
    "            'is' if is_subclass else 'is not')\n",
    "        print(class1.__name__, msg, class2.__name__)"
   ]
  },
  {
   "cell_type": "code",
   "execution_count": null,
   "metadata": {},
   "outputs": [],
   "source": []
  }
 ],
 "metadata": {
  "kernelspec": {
   "display_name": "Python 3",
   "language": "python",
   "name": "python3"
  },
  "language_info": {
   "codemirror_mode": {
    "name": "ipython",
    "version": 3
   },
   "file_extension": ".py",
   "mimetype": "text/x-python",
   "name": "python",
   "nbconvert_exporter": "python",
   "pygments_lexer": "ipython3",
   "version": "3.6.4"
  }
 },
 "nbformat": 4,
 "nbformat_minor": 2
}
