{
 "cells": [
  {
   "cell_type": "markdown",
   "metadata": {},
   "source": [
    "## Database Structures"
   ]
  },
  {
   "cell_type": "markdown",
   "metadata": {},
   "source": [
    "One to One relationship: Foreign key in one table references primary key on a different table\n",
    "\n",
    "One to Many relationship: Multiple elements in a table reference the a single element on a different table. \n",
    "                          Example: if you have an array of elements related to an specific element on a table you create a new table where on each row you have one array element and relate each element to the row in the original table\n",
    "                          \n",
    "Many to many relationship: To be able to relate 2 tables with many to many relationships a bridge table is constructed linking pairs of elements together."
   ]
  },
  {
   "cell_type": "markdown",
   "metadata": {},
   "source": [
    "## Normal Form rules\n",
    "\n",
    "#### First Normal Form\n",
    "    1. Each row should be independent, stand alone record, and not follow any specific order\n",
    "    2. Each row should be unique in terms of the meaningful data it holds\n",
    "    3. Every column of every row should hold one 1 logical value (avoid arrays or lists objects in one column)\n",
    "#### Second Normal Form\n",
    "    1. It deals with compound primary keys. The important point here is that if a compound key is used each column with data should be related to the compound key and not to only a part of it. Example: Conference room in a campus. A compund key could be a mix of building_name & room_number. A column with seating capacity would relate to the compound key, however a column with building_address would break the form since it only relates to the building_name but it does not require the room_number.\n",
    "#### Third Normal Form\n",
    "    1. It eliminates transitive key dependencies. Example: Computer Shop where each laptop has a responbible person. If on the smae table the email_address of the person is specificied, there is a triangular relationship that breaks 3NF. Table should be broken down into multiple table to avoid situation."
   ]
  },
  {
   "cell_type": "code",
   "execution_count": null,
   "metadata": {},
   "outputs": [],
   "source": []
  }
 ],
 "metadata": {
  "kernelspec": {
   "display_name": "Python 3",
   "language": "python",
   "name": "python3"
  },
  "language_info": {
   "codemirror_mode": {
    "name": "ipython",
    "version": 3
   },
   "file_extension": ".py",
   "mimetype": "text/x-python",
   "name": "python",
   "nbconvert_exporter": "python",
   "pygments_lexer": "ipython3",
   "version": "3.6.4"
  }
 },
 "nbformat": 4,
 "nbformat_minor": 2
}
