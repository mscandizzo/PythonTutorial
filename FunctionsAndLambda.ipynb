{
 "cells": [
  {
   "cell_type": "markdown",
   "metadata": {},
   "source": [
    "## Functions\n",
    "---------------------"
   ]
  },
  {
   "cell_type": "code",
   "execution_count": 1,
   "metadata": {},
   "outputs": [],
   "source": [
    "def name_of_function(arg1,arg2):\n",
    "    '''\n",
    "    This is where the function's Document String (docstring) goes\n",
    "    '''\n",
    "    # Do stuff here\n",
    "    #return desired result"
   ]
  },
  {
   "cell_type": "markdown",
   "metadata": {},
   "source": [
    "## Building a function, steps:\n",
    "\n",
    "    1. Begin with def then a space followed by the name of the function. \n",
    "    2. Keep names relevant. Don't use names of built-in functions in Python (such as len).\n",
    "    3. Function Inputs : inside parenthesis and separated by commas.\n",
    "    4. After the parenthesis put a colon.\n",
    "    5. Important !!!: you must indent to begin the code inside your function correctly.\n",
    "    6. Next write the docstring, this is where you write a basic description of the function.\n",
    "    7. After this begin writing the code you wish to execute."
   ]
  },
  {
   "cell_type": "markdown",
   "metadata": {},
   "source": [
    "## Using return\n",
    "\n",
    "Allows a function to *return* a result , if you don't use return the function returns None by default."
   ]
  },
  {
   "cell_type": "code",
   "execution_count": 2,
   "metadata": {},
   "outputs": [],
   "source": [
    "def add_num(num1,num2):\n",
    "    return num1+num2"
   ]
  },
  {
   "cell_type": "code",
   "execution_count": 3,
   "metadata": {},
   "outputs": [
    {
     "data": {
      "text/plain": [
       "9"
      ]
     },
     "execution_count": 3,
     "metadata": {},
     "output_type": "execute_result"
    }
   ],
   "source": [
    "add_num(4,5)"
   ]
  },
  {
   "cell_type": "code",
   "execution_count": 4,
   "metadata": {},
   "outputs": [
    {
     "data": {
      "text/plain": [
       "'fourfive'"
      ]
     },
     "execution_count": 4,
     "metadata": {},
     "output_type": "execute_result"
    }
   ],
   "source": [
    "add_num('four','five')"
   ]
  },
  {
   "cell_type": "markdown",
   "metadata": {},
   "source": [
    "Note: because we don't declare variable types in Python, this function could be used to add numbers or sequences together! "
   ]
  },
  {
   "cell_type": "code",
   "execution_count": 5,
   "metadata": {},
   "outputs": [],
   "source": [
    "import math\n",
    "\n",
    "def is_prime(num):\n",
    "    '''\n",
    "    Better method of checking for primes. \n",
    "    '''\n",
    "    if num % 2 == 0 and num > 2: \n",
    "        return False\n",
    "    for i in range(3, int(math.sqrt(num)) + 1, 2):\n",
    "        if num % i == 0:\n",
    "            return False\n",
    "    return True"
   ]
  },
  {
   "cell_type": "code",
   "execution_count": 6,
   "metadata": {},
   "outputs": [
    {
     "data": {
      "text/plain": [
       "False"
      ]
     },
     "execution_count": 6,
     "metadata": {},
     "output_type": "execute_result"
    }
   ],
   "source": [
    "is_prime(20)"
   ]
  },
  {
   "cell_type": "markdown",
   "metadata": {},
   "source": [
    "## Variable positional arguments\n",
    "---------------------------------------------"
   ]
  },
  {
   "cell_type": "code",
   "execution_count": 67,
   "metadata": {},
   "outputs": [],
   "source": [
    "def minimum(*args):\n",
    "    if args: # Quick way to check if n if not None --> if n not None it evaluates True\n",
    "        mn = args[0]\n",
    "        for value in args[1:]:\n",
    "            if value < mn:\n",
    "                mn = value\n",
    "        print(mn)\n",
    "    else:\n",
    "        print('empty')"
   ]
  },
  {
   "cell_type": "code",
   "execution_count": 68,
   "metadata": {},
   "outputs": [
    {
     "name": "stdout",
     "output_type": "stream",
     "text": [
      "-5\n"
     ]
    }
   ],
   "source": [
    "minimum(1,-5,8,9)"
   ]
  },
  {
   "cell_type": "markdown",
   "metadata": {},
   "source": [
    "## Unpacking elements from a data structure\n",
    "-------------------------------------------------------------"
   ]
  },
  {
   "cell_type": "code",
   "execution_count": 56,
   "metadata": {},
   "outputs": [],
   "source": [
    "lista = [1,-5,8,9]"
   ]
  },
  {
   "cell_type": "code",
   "execution_count": 75,
   "metadata": {},
   "outputs": [
    {
     "name": "stdout",
     "output_type": "stream",
     "text": [
      "-5\n"
     ]
    }
   ],
   "source": [
    "minimum(*lista) # the * unpacks the elements of the list !!!! It could be use with sets, etc."
   ]
  },
  {
   "cell_type": "code",
   "execution_count": 60,
   "metadata": {},
   "outputs": [
    {
     "name": "stdout",
     "output_type": "stream",
     "text": [
      "-5\n"
     ]
    }
   ],
   "source": [
    "listo = (1,-5,8,9)\n",
    "minimum(*listo)"
   ]
  },
  {
   "cell_type": "code",
   "execution_count": 58,
   "metadata": {},
   "outputs": [
    {
     "name": "stdout",
     "output_type": "stream",
     "text": [
      "empty\n"
     ]
    }
   ],
   "source": [
    "tito = minimum()"
   ]
  },
  {
   "cell_type": "markdown",
   "metadata": {},
   "source": [
    "## Variable keyword arguments\n",
    "----------------------------------------------"
   ]
  },
  {
   "cell_type": "code",
   "execution_count": 69,
   "metadata": {},
   "outputs": [],
   "source": [
    "def func3(**kwargs):\n",
    "    print(kwargs)"
   ]
  },
  {
   "cell_type": "code",
   "execution_count": 70,
   "metadata": {},
   "outputs": [
    {
     "name": "stdout",
     "output_type": "stream",
     "text": [
      "{'a': 1, 'b': 4}\n"
     ]
    }
   ],
   "source": [
    "func3(a=1,b=4)"
   ]
  },
  {
   "cell_type": "code",
   "execution_count": 71,
   "metadata": {},
   "outputs": [],
   "source": [
    "datos = {'a': 1, 'b': 4}"
   ]
  },
  {
   "cell_type": "code",
   "execution_count": 74,
   "metadata": {},
   "outputs": [
    {
     "name": "stdout",
     "output_type": "stream",
     "text": [
      "{'a': 1, 'b': 4}\n"
     ]
    }
   ],
   "source": [
    "func3(**datos) # It unpacks but since you have key - value pairs you need ** to unpack rather than *"
   ]
  },
  {
   "cell_type": "code",
   "execution_count": 76,
   "metadata": {},
   "outputs": [],
   "source": [
    "def func4(*args, c):\n",
    "    print(args,c)"
   ]
  },
  {
   "cell_type": "code",
   "execution_count": 79,
   "metadata": {},
   "outputs": [
    {
     "name": "stdout",
     "output_type": "stream",
     "text": [
      "(1, -5, 8, 9) 9\n"
     ]
    }
   ],
   "source": [
    "func4(*lista,c =9)"
   ]
  },
  {
   "cell_type": "markdown",
   "metadata": {},
   "source": [
    "## Combining input parameters\n",
    "---------------------------------------------\n",
    "\n",
    "    1. When defining a function the input variables order should be the following order:\n",
    "        1.1 : normal positional arguments first (name)\n",
    "        1.2 : default arguments (name = value)\n",
    "        1.3 : variable positional arguments (*args)\n",
    "        1.4 : keyword - only arguments (either name or name = value)\n",
    "        1.5 : variable keyword arguments (**kwargs)\n",
    "        \n",
    "    2. When calling a function, arguments must be given in the following order:\n",
    "        2.1 : positional arguments (value)\n",
    "        2.2 : keyword arguments ( name = value)\n",
    "        2.3 : variable arguments ( *args)\n",
    "        2.4 : variable keyword arguments ( **kwargs)"
   ]
  },
  {
   "cell_type": "code",
   "execution_count": 4,
   "metadata": {},
   "outputs": [
    {
     "ename": "SyntaxError",
     "evalue": "positional argument follows keyword argument (<ipython-input-4-4f9aa23717ea>, line 22)",
     "output_type": "error",
     "traceback": [
      "\u001b[1;36m  File \u001b[1;32m\"<ipython-input-4-4f9aa23717ea>\"\u001b[1;36m, line \u001b[1;32m22\u001b[0m\n\u001b[1;33m    func(b=1, c=2, 42)  # positional argument after keyword one\u001b[0m\n\u001b[1;37m                  ^\u001b[0m\n\u001b[1;31mSyntaxError\u001b[0m\u001b[1;31m:\u001b[0m positional argument follows keyword argument\n"
     ]
    }
   ],
   "source": [
    "def func_with_kwonly(a, b=42, *args, c, d=256, **kwargs):\n",
    "    print('a, b:', a, b)\n",
    "    print('c, d:', c, d)\n",
    "    print('args:', args)\n",
    "    print('kwargs:', kwargs)\n",
    "\n",
    "# both calls equivalent\n",
    "func_with_kwonly(3, 42, c=0, d=1, *(7, 9, 11), e='E', f='F')\n",
    "func_with_kwonly(3, 42, *(7, 9, 11), c=0, d=1, e='E', f='F')\n",
    "\n",
    "def func(a, b, c=7, *args, **kwargs):\n",
    "    print('a, b, c:', a, b, c)\n",
    "    print('args:', args)\n",
    "    print('kwargs:', kwargs)\n",
    "\n",
    "func(1, 2, 3, *(5, 7, 9), **{'A': 'a', 'B': 'b'})\n",
    "func(1, 2, 3, 5, 7, 9, A='a', B='b')  # same as previous one\n",
    "\n",
    "def func(a, b=4, c=88):\n",
    "    print(a, b, c)\n",
    "\n",
    "func(b=1, c=2, 42)  # positional argument after keyword one\n",
    "\n",
    "\"\"\"\n",
    "  File \"arguments.default.error.py\", line 4\n",
    "    func(b=1, c=2, 42)\n",
    "                  ^\n",
    "SyntaxError: non-keyword arg after keyword arg\n",
    "\"\"\"\n",
    "\n",
    "def func(a, b=4, c=88):\n",
    "    print(a, b, c)\n",
    "\n",
    "func(1)              # prints: 1 4 88\n",
    "func(b=5, a=7, c=9)  # prints: 7 5 9\n",
    "func(42, c=9)        # prints: 42 4 9\n",
    "\n",
    "\n",
    "def func(a=[], b={}):\n",
    "    print(a)\n",
    "    print(b)\n",
    "    print('#' * 12)\n",
    "    a.append(len(a))  # this will affect a's default value\n",
    "    b[len(a)] = len(a)  # and this will affect b's one\n",
    "\n",
    "func()\n",
    "func(a=[1, 2, 3], b={'B': 1})\n",
    "func()\n",
    "\n",
    "def func(a=None):\n",
    "    if a is None:\n",
    "        a = []\n",
    "    # do whatever you want with `a` ...\n",
    "\n",
    "def func(a=[], b={}):\n",
    "    print(a)\n",
    "    print(b)\n",
    "    print('#' * 12)\n",
    "    a.append(len(a))  # this will affect a's default value\n",
    "    b[len(a)] = len(a)  # and this will affect b's one\n",
    "\n",
    "func()\n",
    "func()\n",
    "func()\n",
    "\n",
    "def kwo(*a, c):\n",
    "    print(a, c)\n",
    "\n",
    "kwo(1, 2, 3, c=7)  # prints: (1, 2, 3) 7\n",
    "kwo(c=4)           # prints: () 4\n",
    "# kwo(1, 2)  # breaks, invalid syntax, with the following error\n",
    "# TypeError: kwo() missing 1 required keyword-only argument: 'c'\n",
    "\n",
    "def kwo2(a, b=42, *, c):\n",
    "    print(a, b, c)\n",
    "\n",
    "kwo2(3, b=7, c=99)  # prints: 3 7 99\n",
    "kwo2(3, c=13)       # prints: 3 42 13\n",
    "# kwo2(3, 23)  # breaks, invalid syntax, with the following error\n",
    "# TypeError: kwo2() missing 1 required keyword-only argument: 'c'\n",
    "\n",
    "def func(a, b, c):\n",
    "    print(a, b, c)\n",
    "\n",
    "func(a=1, c=2, b=3)  # prints: 1 3 2\n",
    "\n",
    "def func(a, b, c):\n",
    "    print(a, b, c)\n",
    "\n",
    "func(1, 2, 3)  # prints: 1 2 3\n",
    "\n",
    "def connect(**options):\n",
    "    conn_params = {\n",
    "        'host': options.get('host', '127.0.0.1'),\n",
    "        'port': options.get('port', 5432),\n",
    "        'user': options.get('user', ''),\n",
    "        'pwd': options.get('pwd', ''),\n",
    "    }\n",
    "    print(conn_params)\n",
    "    # we then connect to the db (commented out)\n",
    "    # db.connect(**conn_params)\n",
    "\n",
    "connect()\n",
    "connect(host='127.0.0.42', port=5433)\n",
    "connect(port=5431, user='fab', pwd='gandalf')\n",
    "\n",
    "def func(**kwargs):\n",
    "    print(kwargs)\n",
    "\n",
    "# All calls equivalent. They print: {'a': 1, 'b': 42}\n",
    "func(a=1, b=42)\n",
    "func(**{'a': 1, 'b': 42})\n",
    "func(**dict(a=1, b=42))\n",
    "\n",
    "def minimum(*n):\n",
    "    # print(n)  # n is a tuple\n",
    "    if n:  # explained after the code\n",
    "        mn = n[0]\n",
    "        for value in n[1:]:\n",
    "            if value < mn:\n",
    "                mn = value\n",
    "        print(mn)\n",
    "\n",
    "minimum(1, 3, -7, 9)  # n = (1, 3, -7, 9) - prints: -7\n",
    "minimum()             # n = () - prints: nothing\n",
    "\n",
    "def func(*args):\n",
    "    print(args)\n",
    "\n",
    "values = (1, 3, -7, 9)\n",
    "func(values)   # equivalent to: func((1, 3, -7, 9))\n",
    "func(*values)  # equivalent to: func(1, 3, -7, 9)\n",
    "\n",
    "def square(n):\n",
    "    \"\"\"Return the square of a number n. \"\"\"\n",
    "    return n ** 2\n",
    "\n",
    "def get_username(userid):\n",
    "    \"\"\"Return the username of a user given their id. \"\"\"\n",
    "    return db.get(user_id=userid).username\n",
    "\n",
    "\n",
    "def connect(host, port, user, password):\n",
    "    \"\"\"Connect to a database.\n",
    "\n",
    "    Connect to a PostgreSQL database directly, using the given\n",
    "    parameters.\n",
    "\n",
    "    :param host: The host IP.\n",
    "    :param port: The desired port.\n",
    "    :param user: The connection username.\n",
    "    :param password: The connection password.\n",
    "    :return: The connection object.\n",
    "    \"\"\"\n",
    "    # body of the function here...\n",
    "    return connection"
   ]
  },
  {
   "cell_type": "markdown",
   "metadata": {},
   "source": [
    "## Recursive function\n",
    "--------------------------------"
   ]
  },
  {
   "cell_type": "code",
   "execution_count": 80,
   "metadata": {},
   "outputs": [],
   "source": [
    "def factorial(n):\n",
    "    if n in (0,1):\n",
    "        return 1\n",
    "    return factorial(n -1) * n"
   ]
  },
  {
   "cell_type": "code",
   "execution_count": 81,
   "metadata": {},
   "outputs": [
    {
     "data": {
      "text/plain": [
       "120"
      ]
     },
     "execution_count": 81,
     "metadata": {},
     "output_type": "execute_result"
    }
   ],
   "source": [
    "factorial(5)"
   ]
  },
  {
   "cell_type": "code",
   "execution_count": 5,
   "metadata": {
    "scrolled": true
   },
   "outputs": [
    {
     "name": "stdout",
     "output_type": "stream",
     "text": [
      "[1, 1, 2, 6, 24, 120, 720, 5040, 40320, 362880]\n",
      "120\n",
      "[1, 1, 2, 6, 24, 120, 720, 5040, 40320, 362880]\n",
      "120\n"
     ]
    }
   ],
   "source": [
    "def factorial(n):\n",
    "    if n in (0, 1):  # base case\n",
    "        return 1\n",
    "    return factorial(n - 1) * n  # recursive case\n",
    "\n",
    "\n",
    "print([factorial(n) for n in range(10)])\n",
    "\n",
    "\n",
    "from functools import reduce\n",
    "from operator import mul\n",
    "\n",
    "\n",
    "def factorial(n):\n",
    "    return reduce(mul, range(1, n + 1), 1)\n",
    "\n",
    "\n",
    "f5 = factorial(5)  # f5 = 120\n",
    "print(f5)\n",
    "print([factorial(k) for k in range(10)])\n",
    "\n",
    "\n",
    "def factorial(n):\n",
    "    if n in (0, 1):\n",
    "        return 1\n",
    "    result = n\n",
    "    for k in range(2, n):\n",
    "        result *= k\n",
    "    return result\n",
    "\n",
    "f5 = factorial(5)  # f5 = 120\n",
    "print(f5)"
   ]
  },
  {
   "cell_type": "markdown",
   "metadata": {},
   "source": [
    "## lambda expressions\n",
    "\n",
    "This basically means we can quickly make ad-hoc functions without needing to properly define a function using def.\n",
    "\n",
    "lambda's body is a single expression, not a block of statements.\n",
    "\n",
    "lambda is designed for coding simple functions, and def handles the larger tasks.\n",
    "\n",
    "Resources:\n",
    "    [Lambda expresions](https://pythonconquerstheuniverse.wordpress.com/2011/08/29/lambda_tutorial/)\n",
    "\n",
    "### Syntaxis\n",
    "\n",
    "- Lamdba expressions require to write them as a **result expression (outcome = formula)** instead of explicitly returning it."
   ]
  },
  {
   "cell_type": "code",
   "execution_count": 7,
   "metadata": {},
   "outputs": [],
   "source": [
    "# let us see a def function versus a lambda function\n",
    "def my_square(num):\n",
    "    result = num ** 2\n",
    "    return result"
   ]
  },
  {
   "cell_type": "code",
   "execution_count": 8,
   "metadata": {},
   "outputs": [
    {
     "data": {
      "text/plain": [
       "16"
      ]
     },
     "execution_count": 8,
     "metadata": {},
     "output_type": "execute_result"
    }
   ],
   "source": [
    "my_square(4)"
   ]
  },
  {
   "cell_type": "code",
   "execution_count": 9,
   "metadata": {},
   "outputs": [],
   "source": [
    "lambda_square = lambda num : num ** 2"
   ]
  },
  {
   "cell_type": "code",
   "execution_count": 10,
   "metadata": {},
   "outputs": [
    {
     "data": {
      "text/plain": [
       "16"
      ]
     },
     "execution_count": 10,
     "metadata": {},
     "output_type": "execute_result"
    }
   ],
   "source": [
    "lambda_square(4)"
   ]
  },
  {
   "cell_type": "code",
   "execution_count": 11,
   "metadata": {},
   "outputs": [],
   "source": [
    "# let us try a lambda function that returns booleans\n",
    "even_number = lambda even : even % 2 == 0"
   ]
  },
  {
   "cell_type": "code",
   "execution_count": 12,
   "metadata": {},
   "outputs": [
    {
     "data": {
      "text/plain": [
       "False"
      ]
     },
     "execution_count": 12,
     "metadata": {},
     "output_type": "execute_result"
    }
   ],
   "source": [
    "even_number(5)"
   ]
  },
  {
   "cell_type": "code",
   "execution_count": 13,
   "metadata": {},
   "outputs": [
    {
     "data": {
      "text/plain": [
       "True"
      ]
     },
     "execution_count": 13,
     "metadata": {},
     "output_type": "execute_result"
    }
   ],
   "source": [
    "even_number(4)"
   ]
  },
  {
   "cell_type": "code",
   "execution_count": 14,
   "metadata": {},
   "outputs": [],
   "source": [
    "# use of lambda expression to select string characters\n",
    "charac = lambda s : s[0]"
   ]
  },
  {
   "cell_type": "code",
   "execution_count": 15,
   "metadata": {},
   "outputs": [
    {
     "data": {
      "text/plain": [
       "'H'"
      ]
     },
     "execution_count": 15,
     "metadata": {},
     "output_type": "execute_result"
    }
   ],
   "source": [
    "charac('Hola')"
   ]
  },
  {
   "cell_type": "code",
   "execution_count": 16,
   "metadata": {},
   "outputs": [],
   "source": [
    "# or lambda for mathematical operations\n",
    "adding = lambda x,y : x + y"
   ]
  },
  {
   "cell_type": "code",
   "execution_count": 17,
   "metadata": {},
   "outputs": [
    {
     "data": {
      "text/plain": [
       "5"
      ]
     },
     "execution_count": 17,
     "metadata": {},
     "output_type": "execute_result"
    }
   ],
   "source": [
    "adding(2,3)"
   ]
  },
  {
   "cell_type": "code",
   "execution_count": 1,
   "metadata": {},
   "outputs": [],
   "source": [
    "f = lambda x: x*2"
   ]
  },
  {
   "cell_type": "code",
   "execution_count": 2,
   "metadata": {},
   "outputs": [],
   "source": [
    "def get_multiples_of_five(n):\n",
    "    return list(filter(lambda k: not k % 5, range(n)))"
   ]
  },
  {
   "cell_type": "code",
   "execution_count": 3,
   "metadata": {},
   "outputs": [
    {
     "data": {
      "text/plain": [
       "[6, 9, 2, 9, 7]"
      ]
     },
     "execution_count": 3,
     "metadata": {},
     "output_type": "execute_result"
    }
   ],
   "source": [
    "a = [5, 9, 2, 4, 7]\n",
    "b = [3, 7, 1, 9, 2]\n",
    "c = [6, 8, 0, 5, 3]\n",
    "maxs = map(lambda n: max(*n), zip(a, b, c))\n",
    "list(maxs)"
   ]
  },
  {
   "cell_type": "code",
   "execution_count": null,
   "metadata": {},
   "outputs": [],
   "source": []
  },
  {
   "cell_type": "markdown",
   "metadata": {},
   "source": [
    "## Function that delivers bolean result\n",
    "--------------------------------------------------------\n",
    "\n",
    "The important take away is that we need the function to return a bolean not a result so we use **\" return not \"** to get a bolean result"
   ]
  },
  {
   "cell_type": "code",
   "execution_count": 94,
   "metadata": {},
   "outputs": [],
   "source": [
    "def multiple_5(n):\n",
    "    return not n % 5"
   ]
  },
  {
   "cell_type": "code",
   "execution_count": 95,
   "metadata": {},
   "outputs": [
    {
     "data": {
      "text/plain": [
       "True"
      ]
     },
     "execution_count": 95,
     "metadata": {},
     "output_type": "execute_result"
    }
   ],
   "source": [
    "multiple_5(10)"
   ]
  },
  {
   "cell_type": "code",
   "execution_count": 92,
   "metadata": {},
   "outputs": [],
   "source": [
    "def multiple_five(n):\n",
    "    return list(filter(lambda k : not k % 5 ,range(n)))"
   ]
  },
  {
   "cell_type": "code",
   "execution_count": 93,
   "metadata": {},
   "outputs": [
    {
     "data": {
      "text/plain": [
       "[0, 5, 10, 15, 20]"
      ]
     },
     "execution_count": 93,
     "metadata": {},
     "output_type": "execute_result"
    }
   ],
   "source": [
    "multiple_five(21)"
   ]
  },
  {
   "cell_type": "markdown",
   "metadata": {},
   "source": [
    "## Nested Statements and Scope \n",
    "\n",
    "When you create a variable name in Python the name is stored in a *namespace*. Variable names also have a *scope*, the scope determines the visibility of that variable name to other parts of your code."
   ]
  },
  {
   "cell_type": "code",
   "execution_count": 18,
   "metadata": {},
   "outputs": [
    {
     "name": "stdout",
     "output_type": "stream",
     "text": [
      "25\n",
      "50\n"
     ]
    }
   ],
   "source": [
    "x = 25\n",
    "\n",
    "def printer():\n",
    "    x = 50\n",
    "    return x\n",
    "\n",
    "print (x)\n",
    "print (printer())"
   ]
  },
  {
   "cell_type": "markdown",
   "metadata": {},
   "source": [
    "## Python rules to define Scope --> Global, local, etc.\n",
    "\n",
    "Scope concept is very important to understand to assign and call the correct variable name.\n",
    "\n",
    "The idea of scope can be described by 3 general rules:\n",
    "1. Name assignments will create or change local names by default.\n",
    "2. Name references search (at most) four scopes, LEGB Rule:\n",
    "    - L: Local — Names assigned in any way within a function (def or lambda)), and not declared global in that function.\n",
    "    - E: Enclosing function locals — Name in the local scope of any and all enclosing functions (def or lambda), from inner to outer.\n",
    "    - G: Global (module) — Names assigned at the top-level of a module file, or declared global in a def within the file.\n",
    "    - B: Built-in (Python) — Names preassigned in the built-in names module : open,range,SyntaxError,...\n",
    "3. Names declared in global and nonlocal statements map assigned names to enclosing module and function scopes."
   ]
  },
  {
   "cell_type": "markdown",
   "metadata": {},
   "source": [
    "### Local"
   ]
  },
  {
   "cell_type": "code",
   "execution_count": 19,
   "metadata": {},
   "outputs": [],
   "source": [
    "f = lambda x: x*2"
   ]
  },
  {
   "cell_type": "markdown",
   "metadata": {},
   "source": [
    "### Enfunction locals: It is a function inside a function (nested function)"
   ]
  },
  {
   "cell_type": "code",
   "execution_count": 20,
   "metadata": {},
   "outputs": [
    {
     "name": "stdout",
     "output_type": "stream",
     "text": [
      "Hello Sammy\n",
      "This is a global name\n"
     ]
    }
   ],
   "source": [
    "name = 'This is a global name'\n",
    "\n",
    "def greet():\n",
    "    # Enclosing function\n",
    "    name = 'Sammy'\n",
    "    \n",
    "    def hello():\n",
    "        print ('Hello '+name)\n",
    "    \n",
    "    hello()\n",
    "\n",
    "greet()\n",
    "print (name)"
   ]
  },
  {
   "cell_type": "markdown",
   "metadata": {},
   "source": [
    "### Global variables\n",
    "\n",
    "Jupyter has a quick way to test for global variables, just print the variable !"
   ]
  },
  {
   "cell_type": "code",
   "execution_count": 22,
   "metadata": {},
   "outputs": [
    {
     "name": "stdout",
     "output_type": "stream",
     "text": [
      "This is a global name\n"
     ]
    }
   ],
   "source": [
    "print (name)"
   ]
  },
  {
   "cell_type": "code",
   "execution_count": 23,
   "metadata": {},
   "outputs": [
    {
     "data": {
      "text/plain": [
       "<function len>"
      ]
     },
     "execution_count": 23,
     "metadata": {},
     "output_type": "execute_result"
    }
   ],
   "source": [
    "len"
   ]
  },
  {
   "cell_type": "markdown",
   "metadata": {},
   "source": [
    "### Local Variables \n",
    "\n",
    "Variables declared inside a function are are not related to other variables with the same names outside the function - i.e. variable names are local to the function.\n",
    "\n",
    "This is the variable's scope. All variables have the scope of the block they are declared in starting from the point of definition of the name."
   ]
  },
  {
   "cell_type": "code",
   "execution_count": 24,
   "metadata": {},
   "outputs": [
    {
     "name": "stdout",
     "output_type": "stream",
     "text": [
      "pp is 50\n",
      "Changed local pp to 2\n",
      "x is still 50\n"
     ]
    }
   ],
   "source": [
    "pp = 50\n",
    "\n",
    "def func(pp):\n",
    "    print ('pp is', pp)\n",
    "    pp = 2\n",
    "    print ('Changed local pp to', pp)\n",
    "    \n",
    "func(pp)\n",
    "print ('x is still', pp)"
   ]
  },
  {
   "cell_type": "markdown",
   "metadata": {},
   "source": [
    "### The global statements \n",
    "\n",
    "If you want to assign a value to a name defined at the top level of the program (i.e. not inside any kind of scope such as functions or classes), then you have to tell Python that the name is not local, but it is global. \n",
    "\n",
    "We do this using the global statement. It is impossible to assign a value to a variable defined outside a function without the global statement.\n",
    "\n",
    "Using the global statement makes it amply clear that the variable is defined in an outermost block."
   ]
  },
  {
   "cell_type": "code",
   "execution_count": 25,
   "metadata": {},
   "outputs": [
    {
     "name": "stdout",
     "output_type": "stream",
     "text": [
      "Before calling func(), tt is:  50\n",
      "This function is now using the global tt!\n",
      "Because of global tt is:  50\n",
      "Run func(), changed global tt to 2\n",
      "Value of tt (outside of func()) is:  2\n"
     ]
    }
   ],
   "source": [
    "tt = 50\n",
    "\n",
    "def func():\n",
    "    global tt\n",
    "    print ('This function is now using the global tt!')\n",
    "    print ('Because of global tt is: ', tt)\n",
    "    tt = 2\n",
    "    print ('Run func(), changed global tt to', tt)\n",
    "\n",
    "print ('Before calling func(), tt is: ', tt)\n",
    "func()\n",
    "print ('Value of tt (outside of func()) is: ', tt)"
   ]
  },
  {
   "cell_type": "markdown",
   "metadata": {},
   "source": [
    "The global statement is used to declare that x is a global variable - hence, when we assign a value to tt inside the function, that change is reflected when we use the value of tt in the main block.\n",
    "\n",
    "You can specify as many global variables as you need using the same global statement e.g. global x, y, z."
   ]
  },
  {
   "cell_type": "code",
   "execution_count": 6,
   "metadata": {},
   "outputs": [
    {
     "name": "stdout",
     "output_type": "stream",
     "text": [
      "inner: 2\n",
      "outer: 2\n",
      "global: 0\n"
     ]
    }
   ],
   "source": [
    "def outer():\n",
    "    test = 1  # outer scope\n",
    "\n",
    "    def inner():\n",
    "        nonlocal test\n",
    "        test = 2  # nearest enclosing scope\n",
    "        print('inner:', test)\n",
    "\n",
    "    inner()\n",
    "    print('outer:', test)\n",
    "\n",
    "\n",
    "test = 0  # global scope\n",
    "outer()\n",
    "print('global:', test)"
   ]
  },
  {
   "cell_type": "code",
   "execution_count": null,
   "metadata": {},
   "outputs": [],
   "source": []
  }
 ],
 "metadata": {
  "kernelspec": {
   "display_name": "Python 3",
   "language": "python",
   "name": "python3"
  },
  "language_info": {
   "codemirror_mode": {
    "name": "ipython",
    "version": 3
   },
   "file_extension": ".py",
   "mimetype": "text/x-python",
   "name": "python",
   "nbconvert_exporter": "python",
   "pygments_lexer": "ipython3",
   "version": "3.6.4"
  }
 },
 "nbformat": 4,
 "nbformat_minor": 1
}
