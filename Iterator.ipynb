{
 "cells": [
  {
   "cell_type": "code",
   "execution_count": 1,
   "metadata": {},
   "outputs": [],
   "source": [
    "class OddEven:\n",
    "\n",
    "    def __init__(self, data):\n",
    "        self._data = data\n",
    "        self.indexes = (list(range(0, len(data), 2)) +\n",
    "            list(range(1, len(data), 2)))\n",
    "\n",
    "    def __iter__(self):\n",
    "        return self\n",
    "\n",
    "    def __next__(self):\n",
    "        if self.indexes:\n",
    "            return self._data[self.indexes.pop(0)]\n",
    "        raise StopIteration"
   ]
  },
  {
   "cell_type": "code",
   "execution_count": 2,
   "metadata": {},
   "outputs": [
    {
     "name": "stdout",
     "output_type": "stream",
     "text": [
      "TIICO!hssol\n",
      "H\n",
      "L\n",
      "o\n",
      "a\n"
     ]
    }
   ],
   "source": [
    "oddeven = OddEven('ThIsIsCoOl!')\n",
    "print(''.join(c for c in oddeven))  # TIICO!hssol\n",
    "\n",
    "oddeven = OddEven('HoLa')  # or manually...\n",
    "it = iter(oddeven)  # this calls oddeven.__iter__ internally\n",
    "print(next(it))  # H\n",
    "print(next(it))  # L\n",
    "print(next(it))  # o\n",
    "print(next(it))  # a"
   ]
  },
  {
   "cell_type": "code",
   "execution_count": 1,
   "metadata": {},
   "outputs": [
    {
     "name": "stdout",
     "output_type": "stream",
     "text": [
      "TIICO!hssol\n",
      "H\n",
      "L\n",
      "o\n",
      "a\n",
      "\n",
      "A\n",
      "A b\n",
      "A C b\n"
     ]
    }
   ],
   "source": [
    "# make sure it works correctly with edge cases\n",
    "oddeven = OddEven('')\n",
    "print(' '.join(c for c in oddeven))\n",
    "\n",
    "oddeven = OddEven('A')\n",
    "print(' '.join(c for c in oddeven))\n",
    "\n",
    "oddeven = OddEven('Ab')\n",
    "print(' '.join(c for c in oddeven))\n",
    "\n",
    "oddeven = OddEven('AbC')\n",
    "print(' '.join(c for c in oddeven))"
   ]
  },
  {
   "cell_type": "code",
   "execution_count": null,
   "metadata": {},
   "outputs": [],
   "source": []
  }
 ],
 "metadata": {
  "kernelspec": {
   "display_name": "Python 3",
   "language": "python",
   "name": "python3"
  },
  "language_info": {
   "codemirror_mode": {
    "name": "ipython",
    "version": 3
   },
   "file_extension": ".py",
   "mimetype": "text/x-python",
   "name": "python",
   "nbconvert_exporter": "python",
   "pygments_lexer": "ipython3",
   "version": "3.6.4"
  }
 },
 "nbformat": 4,
 "nbformat_minor": 2
}
