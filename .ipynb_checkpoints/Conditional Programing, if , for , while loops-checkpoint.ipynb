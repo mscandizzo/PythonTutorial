{
 "cells": [
  {
   "cell_type": "markdown",
   "metadata": {},
   "source": [
    "## Introduction to Python Statements\n",
    "\n",
    "### Indentation\n",
    "\n",
    "Here is some pseudocode to indicate the use of whitespace and indentation in Python:\n",
    "\n",
    "**Python**\n",
    "    \n",
    "    if x:\n",
    "        if y:\n",
    "            code-statement\n",
    "    else:\n",
    "        another-code-statement\n",
    "        \n",
    "Note: Python is heavily driven by code indentation and whitespace. This means that code readability is a core part of the design of the Python language."
   ]
  },
  {
   "cell_type": "markdown",
   "metadata": {},
   "source": [
    "## if , elif , else Statements\n",
    "\n",
    "    if case1:\n",
    "        perform action_1\n",
    "    elif case2:\n",
    "        perform action_2\n",
    "    else: \n",
    "        perform action_3\n",
    "        \n",
    "Rules:\n",
    "\n",
    "    1. The statement can take as many elif's as required\n",
    "    2. It is important to keep the indentation structure otherwise Python will return an error"
   ]
  },
  {
   "cell_type": "code",
   "execution_count": 1,
   "metadata": {},
   "outputs": [
    {
     "name": "stdout",
     "output_type": "stream",
     "text": [
      "Welcome to the bank!\n"
     ]
    }
   ],
   "source": [
    "loc = 'Bank'\n",
    "\n",
    "# The if statement will look at the value of the 'loc' variable and return the associated result, \n",
    "# in this case 'Welcome to the bank'\n",
    "\n",
    "if loc == 'Auto Shop':\n",
    "    print ('Welcome to the Auto Shop!')\n",
    "elif loc == 'Bank':\n",
    "    print ('Welcome to the bank!')\n",
    "else:\n",
    "    print (\"Where are you?\")"
   ]
  },
  {
   "cell_type": "markdown",
   "metadata": {},
   "source": [
    "### Ternary Operator"
   ]
  },
  {
   "cell_type": "code",
   "execution_count": 2,
   "metadata": {},
   "outputs": [
    {
     "name": "stdout",
     "output_type": "stream",
     "text": [
      "120 25\n",
      "60 0\n"
     ]
    }
   ],
   "source": [
    "ordenes = [120,60]\n",
    "\n",
    "for order_total in ordenes:\n",
    "    discount = 25 if order_total > 100 else 0  # Ternary operator --> loop in 1 line\n",
    "    print(order_total, discount)"
   ]
  },
  {
   "cell_type": "markdown",
   "metadata": {},
   "source": [
    "### Advance examples:\n",
    "------------------------------"
   ]
  },
  {
   "cell_type": "code",
   "execution_count": 6,
   "metadata": {},
   "outputs": [
    {
     "name": "stdout",
     "output_type": "stream",
     "text": [
      "[2, 3, 5, 7, 11, 13, 17, 19, 23, 29, 31, 37, 41, 43, 47, 53, 59, 61, 67, 71, 73, 79, 83, 89, 97]\n"
     ]
    }
   ],
   "source": [
    "primes = [] # this will contain the primes in the end\n",
    "upto = 100 # the limit, inclusive\n",
    "\n",
    "for n in range ( 2, upto +1):\n",
    "    is_prime = True # flag, net at each iteration of outer for \n",
    "    for divisor in range(2,n):\n",
    "        if n % divisor == 0 :\n",
    "            is_prime = False\n",
    "            break\n",
    "    if is_prime : # check on flag\n",
    "        primes.append(n)\n",
    "\n",
    "print (primes)"
   ]
  },
  {
   "cell_type": "markdown",
   "metadata": {},
   "source": [
    "## for Loops\n",
    "\n",
    "General format for a **for** loop in Python:\n",
    "\n",
    "    for item in object:\n",
    "        statements to perform a task"
   ]
  },
  {
   "cell_type": "code",
   "execution_count": 19,
   "metadata": {
    "collapsed": true
   },
   "outputs": [],
   "source": [
    "ii = [1,2,3,4,5]"
   ]
  },
  {
   "cell_type": "code",
   "execution_count": 20,
   "metadata": {},
   "outputs": [
    {
     "name": "stdout",
     "output_type": "stream",
     "text": [
      "1\n",
      "2\n",
      "3\n",
      "4\n",
      "5\n"
     ]
    }
   ],
   "source": [
    "for num in ii:\n",
    "    print (num)"
   ]
  },
  {
   "cell_type": "code",
   "execution_count": 21,
   "metadata": {},
   "outputs": [
    {
     "name": "stdout",
     "output_type": "stream",
     "text": [
      "1 is an Odd Number\n",
      "2 is an Even Number\n",
      "3 is an Odd Number\n",
      "4 is an Even Number\n",
      "5 is an Odd Number\n"
     ]
    }
   ],
   "source": [
    "for num in ii:\n",
    "    if num % 2 == 0:\n",
    "        print (str(num) + ' is an Even Number')\n",
    "    else: \n",
    "        print (str(num) + ' is an Odd Number')"
   ]
  },
  {
   "cell_type": "markdown",
   "metadata": {},
   "source": [
    "## Using for loop to keep or increase a value"
   ]
  },
  {
   "cell_type": "code",
   "execution_count": 3,
   "metadata": {},
   "outputs": [
    {
     "ename": "NameError",
     "evalue": "name 'ii' is not defined",
     "output_type": "error",
     "traceback": [
      "\u001b[1;31m---------------------------------------------------------------------------\u001b[0m",
      "\u001b[1;31mNameError\u001b[0m                                 Traceback (most recent call last)",
      "\u001b[1;32m<ipython-input-3-ae13ffb23a0a>\u001b[0m in \u001b[0;36m<module>\u001b[1;34m()\u001b[0m\n\u001b[0;32m      2\u001b[0m \u001b[0mlist_sum\u001b[0m \u001b[1;33m=\u001b[0m \u001b[1;36m0\u001b[0m\u001b[1;33m\u001b[0m\u001b[0m\n\u001b[0;32m      3\u001b[0m \u001b[1;33m\u001b[0m\u001b[0m\n\u001b[1;32m----> 4\u001b[1;33m \u001b[1;32mfor\u001b[0m \u001b[0mnum\u001b[0m \u001b[1;32min\u001b[0m \u001b[0mii\u001b[0m\u001b[1;33m:\u001b[0m\u001b[1;33m\u001b[0m\u001b[0m\n\u001b[0m\u001b[0;32m      5\u001b[0m     \u001b[0mlist_sum\u001b[0m \u001b[1;33m=\u001b[0m \u001b[0mlist_sum\u001b[0m \u001b[1;33m+\u001b[0m \u001b[0mnum\u001b[0m\u001b[1;33m\u001b[0m\u001b[0m\n\u001b[0;32m      6\u001b[0m \u001b[1;33m\u001b[0m\u001b[0m\n",
      "\u001b[1;31mNameError\u001b[0m: name 'ii' is not defined"
     ]
    }
   ],
   "source": [
    "# Start sum at zero\n",
    "list_sum = 0 \n",
    "\n",
    "for num in ii:\n",
    "    list_sum = list_sum + num\n",
    "\n",
    "print (list_sum)"
   ]
  },
  {
   "cell_type": "code",
   "execution_count": 5,
   "metadata": {},
   "outputs": [
    {
     "name": "stdout",
     "output_type": "stream",
     "text": [
      "15\n",
      "-15\n",
      "0\n"
     ]
    }
   ],
   "source": [
    "# Let us do the same the same in a more pythonic way\n",
    "list_sum = 0 \n",
    "\n",
    "for num in ii:\n",
    "    list_sum += num  # <-- += will add the value\n",
    "\n",
    "print (list_sum)\n",
    "\n",
    "list_sum = 0 \n",
    "\n",
    "for num in ii:\n",
    "    list_sum -= num  # -= will deduct the value\n",
    "\n",
    "print (list_sum)\n",
    "\n",
    "list_sum = 0 \n",
    "\n",
    "for num in ii:\n",
    "    list_sum *= num  # <-- *= will multiply, in this case the value is 0 because the initial value is 0 \n",
    "\n",
    "print (list_sum)"
   ]
  },
  {
   "cell_type": "markdown",
   "metadata": {},
   "source": [
    "## For loop for string manipulation"
   ]
  },
  {
   "cell_type": "code",
   "execution_count": 22,
   "metadata": {},
   "outputs": [
    {
     "name": "stdout",
     "output_type": "stream",
     "text": [
      "s\n",
      "t\n",
      "r\n",
      "i\n",
      "n\n",
      "g\n"
     ]
    }
   ],
   "source": [
    "for letter in 'string':\n",
    "    print (letter)"
   ]
  },
  {
   "cell_type": "code",
   "execution_count": 190,
   "metadata": {},
   "outputs": [
    {
     "name": "stdout",
     "output_type": "stream",
     "text": [
      "1\n",
      "2\n",
      "3\n",
      "4\n"
     ]
    }
   ],
   "source": [
    "tup = (1,2,3,4)\n",
    "\n",
    "for t in tup:\n",
    "    print (t)"
   ]
  },
  {
   "cell_type": "markdown",
   "metadata": {},
   "source": [
    "## For loop with Dictionaries\n",
    "\n",
    "By default the loop will go through the keys, let us see how to loop keys and value"
   ]
  },
  {
   "cell_type": "code",
   "execution_count": 192,
   "metadata": {},
   "outputs": [
    {
     "name": "stdout",
     "output_type": "stream",
     "text": [
      "k3\n",
      "k2\n",
      "k1\n"
     ]
    }
   ],
   "source": [
    "dd = {'k1':1,'k2':2,'k3':3}\n",
    "\n",
    "for item in dd:\n",
    "    print (item)"
   ]
  },
  {
   "cell_type": "code",
   "execution_count": 1,
   "metadata": {},
   "outputs": [
    {
     "ename": "SyntaxError",
     "evalue": "Missing parentheses in call to 'print' (<ipython-input-1-b9dee600b08c>, line 3)",
     "output_type": "error",
     "traceback": [
      "\u001b[1;36m  File \u001b[1;32m\"<ipython-input-1-b9dee600b08c>\"\u001b[1;36m, line \u001b[1;32m3\u001b[0m\n\u001b[1;33m    print k\u001b[0m\n\u001b[1;37m          ^\u001b[0m\n\u001b[1;31mSyntaxError\u001b[0m\u001b[1;31m:\u001b[0m Missing parentheses in call to 'print'\n"
     ]
    }
   ],
   "source": [
    "# Now let us do keys and values\n",
    "for k,v in dd.items():\n",
    "    print (k)\n",
    "    print (v)\n",
    "# Note: In Python 3 the method is .items()"
   ]
  },
  {
   "cell_type": "markdown",
   "metadata": {},
   "source": [
    "### Advance example: \n",
    "-----------------------------"
   ]
  },
  {
   "cell_type": "code",
   "execution_count": 8,
   "metadata": {},
   "outputs": [
    {
     "name": "stdout",
     "output_type": "stream",
     "text": [
      "1 200 20\n",
      "2 150 45.0\n",
      "3 100 50.0\n",
      "4 110 15\n"
     ]
    }
   ],
   "source": [
    "customers = [\n",
    "    dict(id=1, total=200, coupon_code='F20'),  # F20 : fixed , $20\n",
    "    dict(id=2, total=150, coupon_code='F30'),  # F20 : percent , 30%\n",
    "    dict(id=3, total=100, coupon_code='F50'),  # F20 : percent , 50%\n",
    "    dict(id=4, total=110, coupon_code='F15'),  # F20 : fixed , $15\n",
    "]\n",
    "\n",
    "discounts = {\n",
    "    'F20': (0,20), # each value is (percent, fixed)\n",
    "    'F30': (0.3,0),\n",
    "    'F50': (0.5,0),\n",
    "    'F15': (0,15),\n",
    "}\n",
    "\n",
    "for customer in customers:\n",
    "    code = customer['coupon_code']\n",
    "    percent, fixed = discounts.get(code, (0,0))\n",
    "    customer['discount'] = percent * customer['total'] + fixed\n",
    "    \n",
    "for customer in customers:\n",
    "    print(customer['id'], customer['total'], customer['discount'])"
   ]
  },
  {
   "cell_type": "markdown",
   "metadata": {},
   "source": [
    "## While loops\n",
    "\n",
    "The general format of a while loop is:\n",
    "\n",
    "    while test:\n",
    "        code statement\n",
    "    else:\n",
    "        final code statements"
   ]
  },
  {
   "cell_type": "code",
   "execution_count": 7,
   "metadata": {},
   "outputs": [
    {
     "name": "stdout",
     "output_type": "stream",
     "text": [
      "x is currently:  0\n",
      " x is still less than 4, adding 1 to x\n",
      "x is currently:  1\n",
      " x is still less than 4, adding 1 to x\n",
      "x is currently:  2\n",
      " x is still less than 4, adding 1 to x\n"
     ]
    }
   ],
   "source": [
    "x = 0\n",
    "\n",
    "while x < 3:\n",
    "    print ('x is currently: ',x)\n",
    "    print (' x is still less than 4, adding 1 to x')\n",
    "    x+=1"
   ]
  },
  {
   "cell_type": "markdown",
   "metadata": {},
   "source": [
    "## break, continue, pass\n",
    "\n",
    "    - break: Breaks out of the current closest enclosing loop.\n",
    "      (Useful when you want to stop running code if certain condition is met)\n",
    "\n",
    "    - continue: It tells the looping construct to stop execution of the body and go to the next iteration.\n",
    "      (very useful when you want to loop over values where you only execute code if variable matches specific condition)\n",
    "\n",
    "    - pass: Does nothing at all.\n",
    "\n",
    "General format of the while loop looks like this:\n",
    "\n",
    "    while test: \n",
    "        code statement\n",
    "        if test: \n",
    "            break\n",
    "        if test: \n",
    "            continue \n",
    "        else:\n",
    "        \n",
    "break and continue statements can appear anywhere inside the loop’s body, but usually they are inserted furhter nested in conjunction with an if statement to perform an action based on some condition."
   ]
  },
  {
   "cell_type": "code",
   "execution_count": 196,
   "metadata": {},
   "outputs": [
    {
     "name": "stdout",
     "output_type": "stream",
     "text": [
      "x is currently:  0\n",
      " x is still less than 5, adding 1 to x\n",
      "continuing...\n",
      "x is currently:  1\n",
      " x is still less than 5, adding 1 to x\n",
      "continuing...\n",
      "x is currently:  2\n",
      " x is still less than 5, adding 1 to x\n",
      "x==3\n",
      "x is currently:  3\n",
      " x is still less than 5, adding 1 to x\n",
      "continuing...\n",
      "x is currently:  4\n",
      " x is still less than 5, adding 1 to x\n",
      "continuing...\n"
     ]
    }
   ],
   "source": [
    "x = 0\n",
    "\n",
    "while x < 5:\n",
    "    print ('x is currently: ',x)\n",
    "    print (' x is still less than 5, adding 1 to x')\n",
    "    x+=1\n",
    "    if x ==3:\n",
    "        print ('x==3')\n",
    "    else:\n",
    "        print ('continuing...')\n",
    "        continue"
   ]
  },
  {
   "cell_type": "code",
   "execution_count": 197,
   "metadata": {},
   "outputs": [
    {
     "name": "stdout",
     "output_type": "stream",
     "text": [
      "x is currently:  0\n",
      " x is still less than 5, adding 1 to x\n",
      "continuing...\n",
      "x is currently:  1\n",
      " x is still less than 5, adding 1 to x\n",
      "continuing...\n",
      "x is currently:  2\n",
      " x is still less than 5, adding 1 to x\n",
      "Breaking because x==3\n"
     ]
    }
   ],
   "source": [
    "# The same look with a break condition will end the loop when the break condition is met\n",
    "x = 0\n",
    "\n",
    "while x < 5:\n",
    "    print ('x is currently: ',x)\n",
    "    print (' x is still less than 5, adding 1 to x')\n",
    "    x+=1\n",
    "    if x ==3:\n",
    "        print ('Breaking because x==3')\n",
    "        break # It finishesthe loop when condition is met\n",
    "    else:\n",
    "        print ('continuing...')\n",
    "        continue"
   ]
  },
  {
   "cell_type": "markdown",
   "metadata": {},
   "source": [
    "## Special else Clause:\n",
    "--------------------------------"
   ]
  },
  {
   "cell_type": "code",
   "execution_count": 5,
   "metadata": {},
   "outputs": [
    {
     "ename": "DriverException",
     "evalue": "Driver not found.",
     "output_type": "error",
     "traceback": [
      "\u001b[1;31m---------------------------------------------------------------------------\u001b[0m",
      "\u001b[1;31mDriverException\u001b[0m                           Traceback (most recent call last)",
      "\u001b[1;32m<ipython-input-5-d3f43ff748cc>\u001b[0m in \u001b[0;36m<module>\u001b[1;34m()\u001b[0m\n\u001b[0;32m     10\u001b[0m \u001b[1;33m\u001b[0m\u001b[0m\n\u001b[0;32m     11\u001b[0m \u001b[1;32melse\u001b[0m\u001b[1;33m:\u001b[0m\u001b[1;33m\u001b[0m\u001b[0m\n\u001b[1;32m---> 12\u001b[1;33m     \u001b[1;32mraise\u001b[0m \u001b[0mDriverException\u001b[0m\u001b[1;33m(\u001b[0m\u001b[1;34m'Driver not found.'\u001b[0m\u001b[1;33m)\u001b[0m\u001b[1;33m\u001b[0m\u001b[0m\n\u001b[0m",
      "\u001b[1;31mDriverException\u001b[0m: Driver not found."
     ]
    }
   ],
   "source": [
    "class DriverException(Exception):\n",
    "    pass\n",
    "\n",
    "people = [('James',17), ('Kirk',9), ('Lars',13), ('Robert',8)]\n",
    "\n",
    "for person, age in people:\n",
    "    if age >= 18:\n",
    "        driver = (person, age)\n",
    "        break\n",
    "        \n",
    "else:\n",
    "    raise DriverException('Driver not found.')"
   ]
  },
  {
   "cell_type": "code",
   "execution_count": null,
   "metadata": {},
   "outputs": [],
   "source": []
  }
 ],
 "metadata": {
  "kernelspec": {
   "display_name": "Python 3",
   "language": "python",
   "name": "python3"
  },
  "language_info": {
   "codemirror_mode": {
    "name": "ipython",
    "version": 3
   },
   "file_extension": ".py",
   "mimetype": "text/x-python",
   "name": "python",
   "nbconvert_exporter": "python",
   "pygments_lexer": "ipython3",
   "version": "3.6.4"
  }
 },
 "nbformat": 4,
 "nbformat_minor": 1
}
