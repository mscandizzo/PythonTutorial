{
 "cells": [
  {
   "cell_type": "markdown",
   "metadata": {},
   "source": [
    "## Python Decorators --> Foundations\n",
    "-------------------------------------"
   ]
  },
  {
   "cell_type": "code",
   "execution_count": 16,
   "metadata": {},
   "outputs": [],
   "source": [
    "from time import sleep, time\n",
    "\n",
    "def f():\n",
    "    sleep(.3)"
   ]
  },
  {
   "cell_type": "code",
   "execution_count": 17,
   "metadata": {},
   "outputs": [
    {
     "name": "stdout",
     "output_type": "stream",
     "text": [
      "f took:  0.30097150802612305\n"
     ]
    }
   ],
   "source": [
    "t = time()\n",
    "f()\n",
    "print('f took: ', time() - t)  "
   ]
  },
  {
   "cell_type": "markdown",
   "metadata": {},
   "source": [
    "### The 1st simple goal is to run a function inside a function"
   ]
  },
  {
   "cell_type": "code",
   "execution_count": 18,
   "metadata": {},
   "outputs": [],
   "source": [
    "def measure(func):\n",
    "    t = time()\n",
    "    func()\n",
    "    print(func.__name__, 'took:', time() - t)"
   ]
  },
  {
   "cell_type": "code",
   "execution_count": 19,
   "metadata": {},
   "outputs": [
    {
     "name": "stdout",
     "output_type": "stream",
     "text": [
      "f took: 0.3000626564025879\n"
     ]
    }
   ],
   "source": [
    "measure(f)  "
   ]
  },
  {
   "cell_type": "markdown",
   "metadata": {},
   "source": [
    "### Now the extra feature is to provide the inner function the ability to receive multiple arguments or keyword arguments"
   ]
  },
  {
   "cell_type": "code",
   "execution_count": 20,
   "metadata": {},
   "outputs": [
    {
     "name": "stdout",
     "output_type": "stream",
     "text": [
      "f took: 0.3007056713104248\n",
      "f took: 0.2007913589477539\n"
     ]
    }
   ],
   "source": [
    "def f(sleep_time=0.1):\n",
    "    sleep(sleep_time)\n",
    "\n",
    "def measure(func, *args, **kwargs):\n",
    "    t = time()\n",
    "    func(*args, **kwargs)\n",
    "    print(func.__name__, 'took:', time() - t)\n",
    "\n",
    "measure(f, sleep_time=0.3)  # f took: 0.3004162311553955\n",
    "measure(f, 0.2)  # f took: 0.20028162002563477"
   ]
  },
  {
   "cell_type": "markdown",
   "metadata": {},
   "source": [
    "### Here we add simple housekeeping to ensure that arguments are assign to the right function"
   ]
  },
  {
   "cell_type": "code",
   "execution_count": 21,
   "metadata": {},
   "outputs": [
    {
     "name": "stdout",
     "output_type": "stream",
     "text": [
      "f took: 0.2001810073852539\n",
      "f took: 0.3009052276611328\n",
      "wrapper\n"
     ]
    }
   ],
   "source": [
    "def f(sleep_time=0.1):\n",
    "    sleep(sleep_time)\n",
    "\n",
    "def measure(func):\n",
    "    def wrapper(*args, **kwargs):\n",
    "        t = time()\n",
    "        func(*args, **kwargs)\n",
    "        print(func.__name__, 'took:', time() - t)\n",
    "    return wrapper\n",
    "\n",
    "f = measure(f)  # decoration point\n",
    "\n",
    "f(0.2)  # f took: 0.2002875804901123\n",
    "f(sleep_time=0.3)  # f took: 0.3003721237182617\n",
    "print(f.__name__)  # wrapper  <- ouch!"
   ]
  },
  {
   "cell_type": "code",
   "execution_count": 23,
   "metadata": {},
   "outputs": [
    {
     "name": "stdout",
     "output_type": "stream",
     "text": [
      "f took: 0.3006265163421631\n",
      "f : Initial function! \n"
     ]
    }
   ],
   "source": [
    "from functools import wraps\n",
    "\n",
    "def measure(func):\n",
    "    @wraps(func)\n",
    "    def wrapper(*args, **kwargs):\n",
    "        t = time()\n",
    "        func(*args, **kwargs)\n",
    "        print(func.__name__, 'took:', time() - t)\n",
    "    return wrapper\n",
    "\n",
    "@measure\n",
    "def f(sleep_time=0.1):\n",
    "    \"\"\"Initial function! \"\"\"\n",
    "    sleep(sleep_time)\n",
    "\n",
    "\n",
    "f(sleep_time=0.3)  # f took: 0.30039525032043457\n",
    "print(f.__name__, ':', f.__doc__)\n",
    "# f : I'm a cat. I love to sleep!"
   ]
  },
  {
   "cell_type": "markdown",
   "metadata": {},
   "source": [
    "The f function is decorated by measure, which means that the f function becomes an argument in the inner wrapper function of measure.\n",
    "However the integrity of the f function is preserved so when called directly it can still be referenced"
   ]
  },
  {
   "cell_type": "raw",
   "metadata": {},
   "source": [
    "# DECORATOR WITH ARGUMENTS\n",
    "def func(arg1, arg2, ...):\n",
    "    pass\n",
    "\n",
    "func = decoarg(arg_a, arg_b)(func)\n",
    "\n",
    "# is equivalent to the following:\n",
    "\n",
    "@decoarg(arg_a, arg_b)\n",
    "def func(arg1, arg2, ...):\n",
    "    pass\n"
   ]
  },
  {
   "cell_type": "markdown",
   "metadata": {},
   "source": [
    "The ideas si to wrap around the initial function with other functionalities that than to be needed of a recurrent theme, so they can be easily used by any function when needed."
   ]
  },
  {
   "cell_type": "code",
   "execution_count": 27,
   "metadata": {},
   "outputs": [],
   "source": [
    "def max_result(threshold):\n",
    "    def decorator(func):\n",
    "        @wraps(func)\n",
    "        def wrapper(*args, **kwargs):\n",
    "            result = func(*args, **kwargs)\n",
    "            if result > threshold:\n",
    "                print(\n",
    "                    'Result is too big ({0}). Max allowed is {1}.'\n",
    "                    .format(result, threshold))\n",
    "            return result\n",
    "        return wrapper\n",
    "    return decorator\n",
    "\n",
    "@max_result(75)\n",
    "def cube(n):\n",
    "    return n ** 3\n",
    "\n",
    "@max_result(10)\n",
    "def square(n):\n",
    "    return n ** 2\n",
    "\n",
    "@max_result(100)\n",
    "def multiply(a, b):\n",
    "    return a * b"
   ]
  },
  {
   "cell_type": "code",
   "execution_count": 26,
   "metadata": {},
   "outputs": [
    {
     "name": "stdout",
     "output_type": "stream",
     "text": [
      "Result is too big (125). Max allowed is 75.\n",
      "125\n",
      "Result is too big (16). Max allowed is 10.\n",
      "16\n",
      "Result is too big (120). Max allowed is 100.\n",
      "120\n",
      "25\n"
     ]
    }
   ],
   "source": [
    "print(cube(5))\n",
    "print(square(4))\n",
    "print(multiply(a = 10, b=12))\n",
    "print(multiply(5,5))"
   ]
  },
  {
   "cell_type": "code",
   "execution_count": null,
   "metadata": {},
   "outputs": [],
   "source": []
  }
 ],
 "metadata": {
  "kernelspec": {
   "display_name": "Python 3",
   "language": "python",
   "name": "python3"
  },
  "language_info": {
   "codemirror_mode": {
    "name": "ipython",
    "version": 3
   },
   "file_extension": ".py",
   "mimetype": "text/x-python",
   "name": "python",
   "nbconvert_exporter": "python",
   "pygments_lexer": "ipython3",
   "version": "3.6.4"
  }
 },
 "nbformat": 4,
 "nbformat_minor": 2
}
